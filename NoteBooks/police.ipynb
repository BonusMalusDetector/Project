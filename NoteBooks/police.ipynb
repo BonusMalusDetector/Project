{
 "cells": [
  {
   "cell_type": "code",
   "execution_count": 1,
   "metadata": {},
   "outputs": [],
   "source": [
    "#importation des librairies nécessaires\n",
    "import numpy as np\n",
    "import pandas as pd\n",
    "import matplotlib.pyplot as plt\n",
    "from matplotlib import rcParams\n",
    "import seaborn as sns\n",
    "from pandas_profiling import ProfileReport"
   ]
  },
  {
   "cell_type": "code",
   "execution_count": 3,
   "metadata": {},
   "outputs": [],
   "source": [
    "police_xls = pd.read_excel('Dataset/Police.xls')\n",
    "police_csv = pd.read_csv('Dataset/police.csv',sep=\";\")"
   ]
  },
  {
   "cell_type": "code",
   "execution_count": 5,
   "metadata": {},
   "outputs": [
    {
     "data": {
      "text/plain": [
       "Index(['CodePolice_id', 'codeCompagnie', 'codeAgence', 'typeIntermediaire',\n",
       "       'numPolice', 'naturePolice', 'typePolice', 'Etat_Police',\n",
       "       'dateEffetPolice', 'dateEcheancePolice'],\n",
       "      dtype='object')"
      ]
     },
     "execution_count": 5,
     "metadata": {},
     "output_type": "execute_result"
    }
   ],
   "source": [
    "police_xls.columns"
   ]
  },
  {
   "cell_type": "code",
   "execution_count": 4,
   "metadata": {},
   "outputs": [
    {
     "data": {
      "text/plain": [
       "Index(['id', 'codeCompagnie', 'codeAgence', 'typeIntermediaire',\n",
       "       'code_Courtier_CGA', 'numPolice', 'naturePolice', 'typePolice',\n",
       "       'dateEffetPolice', 'dateEcheancePolice', 'dateExpirationPolice',\n",
       "       'verouillageModifPolice', 'Etat_Police', 'RESILIATION_ECHEANCE',\n",
       "       'DATE_RESILIATION', 'Date_Suspenssion', 'dateRemiseEnVigueure'],\n",
       "      dtype='object')"
      ]
     },
     "execution_count": 4,
     "metadata": {},
     "output_type": "execute_result"
    }
   ],
   "source": [
    "police_csv.columns"
   ]
  },
  {
   "cell_type": "code",
   "execution_count": 6,
   "metadata": {},
   "outputs": [
    {
     "data": {
      "text/plain": [
       "(937280, 10)"
      ]
     },
     "execution_count": 6,
     "metadata": {},
     "output_type": "execute_result"
    }
   ],
   "source": [
    "police_xls.shape"
   ]
  },
  {
   "cell_type": "code",
   "execution_count": 7,
   "metadata": {},
   "outputs": [
    {
     "data": {
      "text/plain": [
       "(30000, 17)"
      ]
     },
     "execution_count": 7,
     "metadata": {},
     "output_type": "execute_result"
    }
   ],
   "source": [
    "police_csv.shape"
   ]
  },
  {
   "cell_type": "code",
   "execution_count": 7,
   "metadata": {},
   "outputs": [
    {
     "data": {
      "text/html": [
       "<div>\n",
       "<style scoped>\n",
       "    .dataframe tbody tr th:only-of-type {\n",
       "        vertical-align: middle;\n",
       "    }\n",
       "\n",
       "    .dataframe tbody tr th {\n",
       "        vertical-align: top;\n",
       "    }\n",
       "\n",
       "    .dataframe thead th {\n",
       "        text-align: right;\n",
       "    }\n",
       "</style>\n",
       "<table border=\"1\" class=\"dataframe\">\n",
       "  <thead>\n",
       "    <tr style=\"text-align: right;\">\n",
       "      <th></th>\n",
       "      <th>CodePolice_id</th>\n",
       "      <th>codeCompagnie</th>\n",
       "      <th>codeAgence</th>\n",
       "      <th>typeIntermediaire</th>\n",
       "      <th>numPolice</th>\n",
       "      <th>naturePolice</th>\n",
       "      <th>typePolice</th>\n",
       "      <th>Etat_Police</th>\n",
       "      <th>dateEffetPolice</th>\n",
       "      <th>dateEcheancePolice</th>\n",
       "    </tr>\n",
       "  </thead>\n",
       "  <tbody>\n",
       "    <tr>\n",
       "      <th>0</th>\n",
       "      <td>545568</td>\n",
       "      <td>1</td>\n",
       "      <td>599</td>\n",
       "      <td>1</td>\n",
       "      <td>20155.0076050/6</td>\n",
       "      <td>R</td>\n",
       "      <td>I</td>\n",
       "      <td>R</td>\n",
       "      <td>2015-10-13</td>\n",
       "      <td>1013.0</td>\n",
       "    </tr>\n",
       "    <tr>\n",
       "      <th>1</th>\n",
       "      <td>545569</td>\n",
       "      <td>1</td>\n",
       "      <td>655</td>\n",
       "      <td>1</td>\n",
       "      <td>20155.0076056/5</td>\n",
       "      <td>R</td>\n",
       "      <td>I</td>\n",
       "      <td>V</td>\n",
       "      <td>2015-10-13</td>\n",
       "      <td>1013.0</td>\n",
       "    </tr>\n",
       "    <tr>\n",
       "      <th>2</th>\n",
       "      <td>545570</td>\n",
       "      <td>1</td>\n",
       "      <td>757</td>\n",
       "      <td>1</td>\n",
       "      <td>20155.0076058/9</td>\n",
       "      <td>R</td>\n",
       "      <td>I</td>\n",
       "      <td>V</td>\n",
       "      <td>2015-10-13</td>\n",
       "      <td>1013.0</td>\n",
       "    </tr>\n",
       "  </tbody>\n",
       "</table>\n",
       "</div>"
      ],
      "text/plain": [
       "   CodePolice_id  codeCompagnie codeAgence  typeIntermediaire  \\\n",
       "0         545568              1        599                  1   \n",
       "1         545569              1        655                  1   \n",
       "2         545570              1        757                  1   \n",
       "\n",
       "         numPolice naturePolice typePolice Etat_Police dateEffetPolice  \\\n",
       "0  20155.0076050/6            R          I           R      2015-10-13   \n",
       "1  20155.0076056/5            R          I           V      2015-10-13   \n",
       "2  20155.0076058/9            R          I           V      2015-10-13   \n",
       "\n",
       "   dateEcheancePolice  \n",
       "0              1013.0  \n",
       "1              1013.0  \n",
       "2              1013.0  "
      ]
     },
     "execution_count": 7,
     "metadata": {},
     "output_type": "execute_result"
    }
   ],
   "source": [
    "police_xls.head(3)"
   ]
  },
  {
   "cell_type": "code",
   "execution_count": 8,
   "metadata": {},
   "outputs": [
    {
     "data": {
      "text/html": [
       "<div>\n",
       "<style scoped>\n",
       "    .dataframe tbody tr th:only-of-type {\n",
       "        vertical-align: middle;\n",
       "    }\n",
       "\n",
       "    .dataframe tbody tr th {\n",
       "        vertical-align: top;\n",
       "    }\n",
       "\n",
       "    .dataframe thead th {\n",
       "        text-align: right;\n",
       "    }\n",
       "</style>\n",
       "<table border=\"1\" class=\"dataframe\">\n",
       "  <thead>\n",
       "    <tr style=\"text-align: right;\">\n",
       "      <th></th>\n",
       "      <th>id</th>\n",
       "      <th>codeCompagnie</th>\n",
       "      <th>codeAgence</th>\n",
       "      <th>typeIntermediaire</th>\n",
       "      <th>code_Courtier_CGA</th>\n",
       "      <th>numPolice</th>\n",
       "      <th>naturePolice</th>\n",
       "      <th>typePolice</th>\n",
       "      <th>dateEffetPolice</th>\n",
       "      <th>dateEcheancePolice</th>\n",
       "      <th>dateExpirationPolice</th>\n",
       "      <th>verouillageModifPolice</th>\n",
       "      <th>Etat_Police</th>\n",
       "      <th>RESILIATION_ECHEANCE</th>\n",
       "      <th>DATE_RESILIATION</th>\n",
       "      <th>Date_Suspenssion</th>\n",
       "      <th>dateRemiseEnVigueure</th>\n",
       "    </tr>\n",
       "  </thead>\n",
       "  <tbody>\n",
       "    <tr>\n",
       "      <th>0</th>\n",
       "      <td>2983408</td>\n",
       "      <td>14</td>\n",
       "      <td>600</td>\n",
       "      <td>2</td>\n",
       "      <td>NaN</td>\n",
       "      <td>CI0555N00178280</td>\n",
       "      <td>R</td>\n",
       "      <td>I</td>\n",
       "      <td>2018-10-13</td>\n",
       "      <td>1013</td>\n",
       "      <td>NaN</td>\n",
       "      <td>0</td>\n",
       "      <td>V</td>\n",
       "      <td>NaN</td>\n",
       "      <td>NaN</td>\n",
       "      <td>NaN</td>\n",
       "      <td>2018-10-13 00:00:00.000000</td>\n",
       "    </tr>\n",
       "    <tr>\n",
       "      <th>1</th>\n",
       "      <td>2983523</td>\n",
       "      <td>14</td>\n",
       "      <td>723</td>\n",
       "      <td>1</td>\n",
       "      <td>NaN</td>\n",
       "      <td>CI0555N00182003</td>\n",
       "      <td>R</td>\n",
       "      <td>I</td>\n",
       "      <td>2018-10-28</td>\n",
       "      <td>1028</td>\n",
       "      <td>NaN</td>\n",
       "      <td>0</td>\n",
       "      <td>V</td>\n",
       "      <td>NaN</td>\n",
       "      <td>NaN</td>\n",
       "      <td>NaN</td>\n",
       "      <td>2018-10-28 00:00:00.000000</td>\n",
       "    </tr>\n",
       "    <tr>\n",
       "      <th>2</th>\n",
       "      <td>2983642</td>\n",
       "      <td>14</td>\n",
       "      <td>605</td>\n",
       "      <td>1</td>\n",
       "      <td>NaN</td>\n",
       "      <td>CI0555N00179969</td>\n",
       "      <td>R</td>\n",
       "      <td>I</td>\n",
       "      <td>2018-10-22</td>\n",
       "      <td>1022</td>\n",
       "      <td>NaN</td>\n",
       "      <td>0</td>\n",
       "      <td>V</td>\n",
       "      <td>NaN</td>\n",
       "      <td>NaN</td>\n",
       "      <td>NaN</td>\n",
       "      <td>2018-10-22 00:00:00.000000</td>\n",
       "    </tr>\n",
       "  </tbody>\n",
       "</table>\n",
       "</div>"
      ],
      "text/plain": [
       "        id  codeCompagnie codeAgence  typeIntermediaire  code_Courtier_CGA  \\\n",
       "0  2983408             14        600                  2                NaN   \n",
       "1  2983523             14        723                  1                NaN   \n",
       "2  2983642             14        605                  1                NaN   \n",
       "\n",
       "         numPolice naturePolice typePolice dateEffetPolice  \\\n",
       "0  CI0555N00178280            R          I      2018-10-13   \n",
       "1  CI0555N00182003            R          I      2018-10-28   \n",
       "2  CI0555N00179969            R          I      2018-10-22   \n",
       "\n",
       "   dateEcheancePolice  dateExpirationPolice  verouillageModifPolice  \\\n",
       "0                1013                   NaN                       0   \n",
       "1                1028                   NaN                       0   \n",
       "2                1022                   NaN                       0   \n",
       "\n",
       "  Etat_Police  RESILIATION_ECHEANCE DATE_RESILIATION Date_Suspenssion  \\\n",
       "0           V                   NaN              NaN              NaN   \n",
       "1           V                   NaN              NaN              NaN   \n",
       "2           V                   NaN              NaN              NaN   \n",
       "\n",
       "         dateRemiseEnVigueure  \n",
       "0  2018-10-13 00:00:00.000000  \n",
       "1  2018-10-28 00:00:00.000000  \n",
       "2  2018-10-22 00:00:00.000000  "
      ]
     },
     "execution_count": 8,
     "metadata": {},
     "output_type": "execute_result"
    }
   ],
   "source": [
    "police_csv.head(3)"
   ]
  },
  {
   "cell_type": "code",
   "execution_count": 8,
   "metadata": {},
   "outputs": [
    {
     "data": {
      "text/plain": [
       "0"
      ]
     },
     "execution_count": 8,
     "metadata": {},
     "output_type": "execute_result"
    }
   ],
   "source": [
    "police_csv[\"dateEcheancePolice\"].isnull().sum()"
   ]
  },
  {
   "cell_type": "code",
   "execution_count": 10,
   "metadata": {},
   "outputs": [
    {
     "data": {
      "text/plain": [
       "1    22192\n",
       "2     6782\n",
       "3     1026\n",
       "Name: typeIntermediaire, dtype: int64"
      ]
     },
     "execution_count": 10,
     "metadata": {},
     "output_type": "execute_result"
    }
   ],
   "source": [
    "police_csv[\"typeIntermediaire\"].value_counts()"
   ]
  },
  {
   "cell_type": "code",
   "execution_count": 11,
   "metadata": {},
   "outputs": [
    {
     "data": {
      "text/plain": [
       "array([nan, 56., 36., 35., 47., 42., 13., 28., 57., 14., 59., 32., 21.,\n",
       "       43.,  6., 58., 64.,  9., 10., 38., 34., 45.,  3., 20.,  4., 54.,\n",
       "       33.,  1., 41., 37., 46., 22., 17., 26., 30., 11., 12., 23., 18.,\n",
       "       63., 50., 27., 44., 15., 51., 49., 25., 61., 31.,  8., 48., 60.,\n",
       "       39.])"
      ]
     },
     "execution_count": 11,
     "metadata": {},
     "output_type": "execute_result"
    }
   ],
   "source": [
    "police_csv[\"code_Courtier_CGA\"].unique()"
   ]
  },
  {
   "cell_type": "code",
   "execution_count": 12,
   "metadata": {},
   "outputs": [
    {
     "data": {
      "text/plain": [
       "30000"
      ]
     },
     "execution_count": 12,
     "metadata": {},
     "output_type": "execute_result"
    }
   ],
   "source": [
    "police_csv['dateExpirationPolice'].isnull().sum()"
   ]
  },
  {
   "cell_type": "code",
   "execution_count": 13,
   "metadata": {},
   "outputs": [
    {
     "data": {
      "text/plain": [
       "0    30000\n",
       "Name: verouillageModifPolice, dtype: int64"
      ]
     },
     "execution_count": 13,
     "metadata": {},
     "output_type": "execute_result"
    }
   ],
   "source": [
    "police_csv['verouillageModifPolice'].value_counts()"
   ]
  },
  {
   "cell_type": "code",
   "execution_count": 14,
   "metadata": {},
   "outputs": [
    {
     "data": {
      "text/plain": [
       "29970"
      ]
     },
     "execution_count": 14,
     "metadata": {},
     "output_type": "execute_result"
    }
   ],
   "source": [
    "police_csv['RESILIATION_ECHEANCE'].isnull().sum()"
   ]
  },
  {
   "cell_type": "code",
   "execution_count": 15,
   "metadata": {},
   "outputs": [
    {
     "data": {
      "text/plain": [
       "0.0    28\n",
       "1.0     2\n",
       "Name: RESILIATION_ECHEANCE, dtype: int64"
      ]
     },
     "execution_count": 15,
     "metadata": {},
     "output_type": "execute_result"
    }
   ],
   "source": [
    "police_csv['RESILIATION_ECHEANCE'].value_counts()"
   ]
  },
  {
   "cell_type": "code",
   "execution_count": 16,
   "metadata": {},
   "outputs": [
    {
     "data": {
      "text/plain": [
       "29928"
      ]
     },
     "execution_count": 16,
     "metadata": {},
     "output_type": "execute_result"
    }
   ],
   "source": [
    "police_csv['DATE_RESILIATION'].isnull().sum()"
   ]
  },
  {
   "cell_type": "code",
   "execution_count": 17,
   "metadata": {},
   "outputs": [
    {
     "data": {
      "text/plain": [
       "29628"
      ]
     },
     "execution_count": 17,
     "metadata": {},
     "output_type": "execute_result"
    }
   ],
   "source": [
    "police_csv['Date_Suspenssion'].isnull().sum()"
   ]
  },
  {
   "cell_type": "code",
   "execution_count": 9,
   "metadata": {},
   "outputs": [],
   "source": [
    "police_csv.drop(columns=[\"code_Courtier_CGA\",\"dateExpirationPolice\",\"verouillageModifPolice\",\"RESILIATION_ECHEANCE\",\"DATE_RESILIATION\",\"Date_Suspenssion\"],inplace=True)"
   ]
  },
  {
   "cell_type": "code",
   "execution_count": 10,
   "metadata": {},
   "outputs": [
    {
     "data": {
      "text/plain": [
       "CodePolice_id             0\n",
       "codeCompagnie             0\n",
       "codeAgence                0\n",
       "typeIntermediaire         0\n",
       "numPolice                 0\n",
       "naturePolice              0\n",
       "typePolice                0\n",
       "Etat_Police               0\n",
       "dateEffetPolice           0\n",
       "dateEcheancePolice    91884\n",
       "dtype: int64"
      ]
     },
     "execution_count": 10,
     "metadata": {},
     "output_type": "execute_result"
    }
   ],
   "source": [
    "police_xls.isnull().sum()"
   ]
  },
  {
   "cell_type": "code",
   "execution_count": 11,
   "metadata": {},
   "outputs": [
    {
     "data": {
      "text/plain": [
       "(937280, 10)"
      ]
     },
     "execution_count": 11,
     "metadata": {},
     "output_type": "execute_result"
    }
   ],
   "source": [
    "police_xls.shape"
   ]
  },
  {
   "cell_type": "code",
   "execution_count": 12,
   "metadata": {
    "scrolled": true
   },
   "outputs": [
    {
     "data": {
      "text/html": [
       "<div>\n",
       "<style scoped>\n",
       "    .dataframe tbody tr th:only-of-type {\n",
       "        vertical-align: middle;\n",
       "    }\n",
       "\n",
       "    .dataframe tbody tr th {\n",
       "        vertical-align: top;\n",
       "    }\n",
       "\n",
       "    .dataframe thead th {\n",
       "        text-align: right;\n",
       "    }\n",
       "</style>\n",
       "<table border=\"1\" class=\"dataframe\">\n",
       "  <thead>\n",
       "    <tr style=\"text-align: right;\">\n",
       "      <th></th>\n",
       "      <th>dateRemiseEnVigueure</th>\n",
       "      <th>dateEffetPolice</th>\n",
       "    </tr>\n",
       "  </thead>\n",
       "  <tbody>\n",
       "    <tr>\n",
       "      <th>0</th>\n",
       "      <td>2018-10-13 00:00:00.000000</td>\n",
       "      <td>2018-10-13</td>\n",
       "    </tr>\n",
       "    <tr>\n",
       "      <th>1</th>\n",
       "      <td>2018-10-28 00:00:00.000000</td>\n",
       "      <td>2018-10-28</td>\n",
       "    </tr>\n",
       "    <tr>\n",
       "      <th>2</th>\n",
       "      <td>2018-10-22 00:00:00.000000</td>\n",
       "      <td>2018-10-22</td>\n",
       "    </tr>\n",
       "    <tr>\n",
       "      <th>3</th>\n",
       "      <td>2018-10-23 00:00:00.000000</td>\n",
       "      <td>2018-10-23</td>\n",
       "    </tr>\n",
       "    <tr>\n",
       "      <th>4</th>\n",
       "      <td>2018-10-25 00:00:00.000000</td>\n",
       "      <td>2018-10-25</td>\n",
       "    </tr>\n",
       "    <tr>\n",
       "      <th>...</th>\n",
       "      <td>...</td>\n",
       "      <td>...</td>\n",
       "    </tr>\n",
       "    <tr>\n",
       "      <th>29995</th>\n",
       "      <td>2018-10-30 00:00:00.000000</td>\n",
       "      <td>2018-10-30</td>\n",
       "    </tr>\n",
       "    <tr>\n",
       "      <th>29996</th>\n",
       "      <td>2018-10-19 00:00:00.000000</td>\n",
       "      <td>2018-10-19</td>\n",
       "    </tr>\n",
       "    <tr>\n",
       "      <th>29997</th>\n",
       "      <td>2018-10-09 00:00:00.000000</td>\n",
       "      <td>2018-10-09</td>\n",
       "    </tr>\n",
       "    <tr>\n",
       "      <th>29998</th>\n",
       "      <td>2018-10-30 00:00:00.000000</td>\n",
       "      <td>2018-10-30</td>\n",
       "    </tr>\n",
       "    <tr>\n",
       "      <th>29999</th>\n",
       "      <td>2018-10-09 00:00:00.000000</td>\n",
       "      <td>2018-10-09</td>\n",
       "    </tr>\n",
       "  </tbody>\n",
       "</table>\n",
       "<p>30000 rows × 2 columns</p>\n",
       "</div>"
      ],
      "text/plain": [
       "             dateRemiseEnVigueure dateEffetPolice\n",
       "0      2018-10-13 00:00:00.000000      2018-10-13\n",
       "1      2018-10-28 00:00:00.000000      2018-10-28\n",
       "2      2018-10-22 00:00:00.000000      2018-10-22\n",
       "3      2018-10-23 00:00:00.000000      2018-10-23\n",
       "4      2018-10-25 00:00:00.000000      2018-10-25\n",
       "...                           ...             ...\n",
       "29995  2018-10-30 00:00:00.000000      2018-10-30\n",
       "29996  2018-10-19 00:00:00.000000      2018-10-19\n",
       "29997  2018-10-09 00:00:00.000000      2018-10-09\n",
       "29998  2018-10-30 00:00:00.000000      2018-10-30\n",
       "29999  2018-10-09 00:00:00.000000      2018-10-09\n",
       "\n",
       "[30000 rows x 2 columns]"
      ]
     },
     "execution_count": 12,
     "metadata": {},
     "output_type": "execute_result"
    }
   ],
   "source": [
    "police_csv[[\"dateRemiseEnVigueure\",\"dateEffetPolice\"]]"
   ]
  },
  {
   "cell_type": "code",
   "execution_count": 13,
   "metadata": {},
   "outputs": [],
   "source": [
    "police_csv['dateRemiseEnVigueureajuste'] = pd.DatetimeIndex(police_csv['dateRemiseEnVigueure']).date"
   ]
  },
  {
   "cell_type": "code",
   "execution_count": 14,
   "metadata": {},
   "outputs": [
    {
     "data": {
      "text/html": [
       "<div>\n",
       "<style scoped>\n",
       "    .dataframe tbody tr th:only-of-type {\n",
       "        vertical-align: middle;\n",
       "    }\n",
       "\n",
       "    .dataframe tbody tr th {\n",
       "        vertical-align: top;\n",
       "    }\n",
       "\n",
       "    .dataframe thead th {\n",
       "        text-align: right;\n",
       "    }\n",
       "</style>\n",
       "<table border=\"1\" class=\"dataframe\">\n",
       "  <thead>\n",
       "    <tr style=\"text-align: right;\">\n",
       "      <th></th>\n",
       "      <th>dateRemiseEnVigueureajuste</th>\n",
       "      <th>dateEffetPolice</th>\n",
       "    </tr>\n",
       "  </thead>\n",
       "  <tbody>\n",
       "    <tr>\n",
       "      <th>0</th>\n",
       "      <td>2018-10-13</td>\n",
       "      <td>2018-10-13</td>\n",
       "    </tr>\n",
       "    <tr>\n",
       "      <th>1</th>\n",
       "      <td>2018-10-28</td>\n",
       "      <td>2018-10-28</td>\n",
       "    </tr>\n",
       "    <tr>\n",
       "      <th>2</th>\n",
       "      <td>2018-10-22</td>\n",
       "      <td>2018-10-22</td>\n",
       "    </tr>\n",
       "    <tr>\n",
       "      <th>3</th>\n",
       "      <td>2018-10-23</td>\n",
       "      <td>2018-10-23</td>\n",
       "    </tr>\n",
       "    <tr>\n",
       "      <th>4</th>\n",
       "      <td>2018-10-25</td>\n",
       "      <td>2018-10-25</td>\n",
       "    </tr>\n",
       "    <tr>\n",
       "      <th>...</th>\n",
       "      <td>...</td>\n",
       "      <td>...</td>\n",
       "    </tr>\n",
       "    <tr>\n",
       "      <th>29995</th>\n",
       "      <td>2018-10-30</td>\n",
       "      <td>2018-10-30</td>\n",
       "    </tr>\n",
       "    <tr>\n",
       "      <th>29996</th>\n",
       "      <td>2018-10-19</td>\n",
       "      <td>2018-10-19</td>\n",
       "    </tr>\n",
       "    <tr>\n",
       "      <th>29997</th>\n",
       "      <td>2018-10-09</td>\n",
       "      <td>2018-10-09</td>\n",
       "    </tr>\n",
       "    <tr>\n",
       "      <th>29998</th>\n",
       "      <td>2018-10-30</td>\n",
       "      <td>2018-10-30</td>\n",
       "    </tr>\n",
       "    <tr>\n",
       "      <th>29999</th>\n",
       "      <td>2018-10-09</td>\n",
       "      <td>2018-10-09</td>\n",
       "    </tr>\n",
       "  </tbody>\n",
       "</table>\n",
       "<p>30000 rows × 2 columns</p>\n",
       "</div>"
      ],
      "text/plain": [
       "      dateRemiseEnVigueureajuste dateEffetPolice\n",
       "0                     2018-10-13      2018-10-13\n",
       "1                     2018-10-28      2018-10-28\n",
       "2                     2018-10-22      2018-10-22\n",
       "3                     2018-10-23      2018-10-23\n",
       "4                     2018-10-25      2018-10-25\n",
       "...                          ...             ...\n",
       "29995                 2018-10-30      2018-10-30\n",
       "29996                 2018-10-19      2018-10-19\n",
       "29997                 2018-10-09      2018-10-09\n",
       "29998                 2018-10-30      2018-10-30\n",
       "29999                 2018-10-09      2018-10-09\n",
       "\n",
       "[30000 rows x 2 columns]"
      ]
     },
     "execution_count": 14,
     "metadata": {},
     "output_type": "execute_result"
    }
   ],
   "source": [
    "police_csv[['dateRemiseEnVigueureajuste',\"dateEffetPolice\"]]"
   ]
  },
  {
   "cell_type": "code",
   "execution_count": 15,
   "metadata": {},
   "outputs": [
    {
     "data": {
      "text/plain": [
       "False"
      ]
     },
     "execution_count": 15,
     "metadata": {},
     "output_type": "execute_result"
    }
   ],
   "source": [
    "police_csv['dateRemiseEnVigueureajuste'].equals(police_csv['dateEffetPolice'])"
   ]
  },
  {
   "cell_type": "code",
   "execution_count": 16,
   "metadata": {},
   "outputs": [
    {
     "data": {
      "text/plain": [
       "0"
      ]
     },
     "execution_count": 16,
     "metadata": {},
     "output_type": "execute_result"
    }
   ],
   "source": [
    "police_csv['dateEffetPolice'].isnull().sum()"
   ]
  },
  {
   "cell_type": "code",
   "execution_count": 17,
   "metadata": {},
   "outputs": [
    {
     "data": {
      "text/html": [
       "<div>\n",
       "<style scoped>\n",
       "    .dataframe tbody tr th:only-of-type {\n",
       "        vertical-align: middle;\n",
       "    }\n",
       "\n",
       "    .dataframe tbody tr th {\n",
       "        vertical-align: top;\n",
       "    }\n",
       "\n",
       "    .dataframe thead th {\n",
       "        text-align: right;\n",
       "    }\n",
       "</style>\n",
       "<table border=\"1\" class=\"dataframe\">\n",
       "  <thead>\n",
       "    <tr style=\"text-align: right;\">\n",
       "      <th></th>\n",
       "      <th>dateRemiseEnVigueureajuste</th>\n",
       "      <th>dateEffetPolice</th>\n",
       "    </tr>\n",
       "  </thead>\n",
       "  <tbody>\n",
       "    <tr>\n",
       "      <th>0</th>\n",
       "      <td>2018-10-13</td>\n",
       "      <td>2018-10-13</td>\n",
       "    </tr>\n",
       "    <tr>\n",
       "      <th>1</th>\n",
       "      <td>2018-10-28</td>\n",
       "      <td>2018-10-28</td>\n",
       "    </tr>\n",
       "    <tr>\n",
       "      <th>2</th>\n",
       "      <td>2018-10-22</td>\n",
       "      <td>2018-10-22</td>\n",
       "    </tr>\n",
       "    <tr>\n",
       "      <th>3</th>\n",
       "      <td>2018-10-23</td>\n",
       "      <td>2018-10-23</td>\n",
       "    </tr>\n",
       "    <tr>\n",
       "      <th>4</th>\n",
       "      <td>2018-10-25</td>\n",
       "      <td>2018-10-25</td>\n",
       "    </tr>\n",
       "    <tr>\n",
       "      <th>...</th>\n",
       "      <td>...</td>\n",
       "      <td>...</td>\n",
       "    </tr>\n",
       "    <tr>\n",
       "      <th>29995</th>\n",
       "      <td>2018-10-30</td>\n",
       "      <td>2018-10-30</td>\n",
       "    </tr>\n",
       "    <tr>\n",
       "      <th>29996</th>\n",
       "      <td>2018-10-19</td>\n",
       "      <td>2018-10-19</td>\n",
       "    </tr>\n",
       "    <tr>\n",
       "      <th>29997</th>\n",
       "      <td>2018-10-09</td>\n",
       "      <td>2018-10-09</td>\n",
       "    </tr>\n",
       "    <tr>\n",
       "      <th>29998</th>\n",
       "      <td>2018-10-30</td>\n",
       "      <td>2018-10-30</td>\n",
       "    </tr>\n",
       "    <tr>\n",
       "      <th>29999</th>\n",
       "      <td>2018-10-09</td>\n",
       "      <td>2018-10-09</td>\n",
       "    </tr>\n",
       "  </tbody>\n",
       "</table>\n",
       "<p>30000 rows × 2 columns</p>\n",
       "</div>"
      ],
      "text/plain": [
       "      dateRemiseEnVigueureajuste dateEffetPolice\n",
       "0                     2018-10-13      2018-10-13\n",
       "1                     2018-10-28      2018-10-28\n",
       "2                     2018-10-22      2018-10-22\n",
       "3                     2018-10-23      2018-10-23\n",
       "4                     2018-10-25      2018-10-25\n",
       "...                          ...             ...\n",
       "29995                 2018-10-30      2018-10-30\n",
       "29996                 2018-10-19      2018-10-19\n",
       "29997                 2018-10-09      2018-10-09\n",
       "29998                 2018-10-30      2018-10-30\n",
       "29999                 2018-10-09      2018-10-09\n",
       "\n",
       "[30000 rows x 2 columns]"
      ]
     },
     "execution_count": 17,
     "metadata": {},
     "output_type": "execute_result"
    }
   ],
   "source": [
    "police_csv[~(police_csv['dateRemiseEnVigueureajuste']==police_csv['dateEffetPolice'])][['dateRemiseEnVigueureajuste',\"dateEffetPolice\"]]"
   ]
  },
  {
   "cell_type": "code",
   "execution_count": 18,
   "metadata": {},
   "outputs": [],
   "source": [
    "police_csv['dateRemiseEnVigueureajuste']=pd.to_datetime(police_csv['dateRemiseEnVigueureajuste'])"
   ]
  },
  {
   "cell_type": "code",
   "execution_count": 19,
   "metadata": {},
   "outputs": [],
   "source": [
    "police_csv['dateEffetPolice']=pd.to_datetime(police_csv['dateEffetPolice'])"
   ]
  },
  {
   "cell_type": "code",
   "execution_count": 20,
   "metadata": {},
   "outputs": [
    {
     "data": {
      "text/html": [
       "<div>\n",
       "<style scoped>\n",
       "    .dataframe tbody tr th:only-of-type {\n",
       "        vertical-align: middle;\n",
       "    }\n",
       "\n",
       "    .dataframe tbody tr th {\n",
       "        vertical-align: top;\n",
       "    }\n",
       "\n",
       "    .dataframe thead th {\n",
       "        text-align: right;\n",
       "    }\n",
       "</style>\n",
       "<table border=\"1\" class=\"dataframe\">\n",
       "  <thead>\n",
       "    <tr style=\"text-align: right;\">\n",
       "      <th></th>\n",
       "      <th>dateRemiseEnVigueureajuste</th>\n",
       "      <th>dateEffetPolice</th>\n",
       "    </tr>\n",
       "  </thead>\n",
       "  <tbody>\n",
       "    <tr>\n",
       "      <th>0</th>\n",
       "      <td>2018-10-13</td>\n",
       "      <td>2018-10-13</td>\n",
       "    </tr>\n",
       "    <tr>\n",
       "      <th>1</th>\n",
       "      <td>2018-10-28</td>\n",
       "      <td>2018-10-28</td>\n",
       "    </tr>\n",
       "    <tr>\n",
       "      <th>2</th>\n",
       "      <td>2018-10-22</td>\n",
       "      <td>2018-10-22</td>\n",
       "    </tr>\n",
       "    <tr>\n",
       "      <th>3</th>\n",
       "      <td>2018-10-23</td>\n",
       "      <td>2018-10-23</td>\n",
       "    </tr>\n",
       "    <tr>\n",
       "      <th>4</th>\n",
       "      <td>2018-10-25</td>\n",
       "      <td>2018-10-25</td>\n",
       "    </tr>\n",
       "    <tr>\n",
       "      <th>...</th>\n",
       "      <td>...</td>\n",
       "      <td>...</td>\n",
       "    </tr>\n",
       "    <tr>\n",
       "      <th>29995</th>\n",
       "      <td>2018-10-30</td>\n",
       "      <td>2018-10-30</td>\n",
       "    </tr>\n",
       "    <tr>\n",
       "      <th>29996</th>\n",
       "      <td>2018-10-19</td>\n",
       "      <td>2018-10-19</td>\n",
       "    </tr>\n",
       "    <tr>\n",
       "      <th>29997</th>\n",
       "      <td>2018-10-09</td>\n",
       "      <td>2018-10-09</td>\n",
       "    </tr>\n",
       "    <tr>\n",
       "      <th>29998</th>\n",
       "      <td>2018-10-30</td>\n",
       "      <td>2018-10-30</td>\n",
       "    </tr>\n",
       "    <tr>\n",
       "      <th>29999</th>\n",
       "      <td>2018-10-09</td>\n",
       "      <td>2018-10-09</td>\n",
       "    </tr>\n",
       "  </tbody>\n",
       "</table>\n",
       "<p>30000 rows × 2 columns</p>\n",
       "</div>"
      ],
      "text/plain": [
       "      dateRemiseEnVigueureajuste dateEffetPolice\n",
       "0                     2018-10-13      2018-10-13\n",
       "1                     2018-10-28      2018-10-28\n",
       "2                     2018-10-22      2018-10-22\n",
       "3                     2018-10-23      2018-10-23\n",
       "4                     2018-10-25      2018-10-25\n",
       "...                          ...             ...\n",
       "29995                 2018-10-30      2018-10-30\n",
       "29996                 2018-10-19      2018-10-19\n",
       "29997                 2018-10-09      2018-10-09\n",
       "29998                 2018-10-30      2018-10-30\n",
       "29999                 2018-10-09      2018-10-09\n",
       "\n",
       "[30000 rows x 2 columns]"
      ]
     },
     "execution_count": 20,
     "metadata": {},
     "output_type": "execute_result"
    }
   ],
   "source": [
    "police_csv[['dateRemiseEnVigueureajuste',\"dateEffetPolice\"]]"
   ]
  },
  {
   "cell_type": "code",
   "execution_count": 21,
   "metadata": {},
   "outputs": [
    {
     "data": {
      "text/plain": [
       "Index(['id', 'codeCompagnie', 'codeAgence', 'typeIntermediaire', 'numPolice',\n",
       "       'naturePolice', 'typePolice', 'dateEffetPolice', 'dateEcheancePolice',\n",
       "       'Etat_Police', 'dateRemiseEnVigueure', 'dateRemiseEnVigueureajuste'],\n",
       "      dtype='object')"
      ]
     },
     "execution_count": 21,
     "metadata": {},
     "output_type": "execute_result"
    }
   ],
   "source": [
    "police_csv.columns"
   ]
  },
  {
   "cell_type": "code",
   "execution_count": 22,
   "metadata": {},
   "outputs": [
    {
     "data": {
      "text/plain": [
       "Index(['CodePolice_id', 'codeCompagnie', 'codeAgence', 'typeIntermediaire',\n",
       "       'numPolice', 'naturePolice', 'typePolice', 'Etat_Police',\n",
       "       'dateEffetPolice', 'dateEcheancePolice'],\n",
       "      dtype='object')"
      ]
     },
     "execution_count": 22,
     "metadata": {},
     "output_type": "execute_result"
    }
   ],
   "source": [
    "police_xls.columns"
   ]
  },
  {
   "cell_type": "code",
   "execution_count": 23,
   "metadata": {},
   "outputs": [],
   "source": [
    "police_csv.rename(columns={\"id\": \"CodePolice_id\"},inplace=True)"
   ]
  },
  {
   "cell_type": "code",
   "execution_count": 24,
   "metadata": {},
   "outputs": [],
   "source": [
    "police = pd.concat([police_xls, police_csv])"
   ]
  },
  {
   "cell_type": "code",
   "execution_count": 25,
   "metadata": {},
   "outputs": [
    {
     "data": {
      "text/html": [
       "<div>\n",
       "<style scoped>\n",
       "    .dataframe tbody tr th:only-of-type {\n",
       "        vertical-align: middle;\n",
       "    }\n",
       "\n",
       "    .dataframe tbody tr th {\n",
       "        vertical-align: top;\n",
       "    }\n",
       "\n",
       "    .dataframe thead th {\n",
       "        text-align: right;\n",
       "    }\n",
       "</style>\n",
       "<table border=\"1\" class=\"dataframe\">\n",
       "  <thead>\n",
       "    <tr style=\"text-align: right;\">\n",
       "      <th></th>\n",
       "      <th>CodePolice_id</th>\n",
       "      <th>codeCompagnie</th>\n",
       "      <th>codeAgence</th>\n",
       "      <th>typeIntermediaire</th>\n",
       "      <th>numPolice</th>\n",
       "      <th>naturePolice</th>\n",
       "      <th>typePolice</th>\n",
       "      <th>Etat_Police</th>\n",
       "      <th>dateEffetPolice</th>\n",
       "      <th>dateEcheancePolice</th>\n",
       "      <th>dateRemiseEnVigueure</th>\n",
       "      <th>dateRemiseEnVigueureajuste</th>\n",
       "    </tr>\n",
       "  </thead>\n",
       "  <tbody>\n",
       "    <tr>\n",
       "      <th>0</th>\n",
       "      <td>545568</td>\n",
       "      <td>1</td>\n",
       "      <td>599</td>\n",
       "      <td>1</td>\n",
       "      <td>20155.0076050/6</td>\n",
       "      <td>R</td>\n",
       "      <td>I</td>\n",
       "      <td>R</td>\n",
       "      <td>2015-10-13</td>\n",
       "      <td>1013.0</td>\n",
       "      <td>NaN</td>\n",
       "      <td>NaT</td>\n",
       "    </tr>\n",
       "    <tr>\n",
       "      <th>1</th>\n",
       "      <td>545569</td>\n",
       "      <td>1</td>\n",
       "      <td>655</td>\n",
       "      <td>1</td>\n",
       "      <td>20155.0076056/5</td>\n",
       "      <td>R</td>\n",
       "      <td>I</td>\n",
       "      <td>V</td>\n",
       "      <td>2015-10-13</td>\n",
       "      <td>1013.0</td>\n",
       "      <td>NaN</td>\n",
       "      <td>NaT</td>\n",
       "    </tr>\n",
       "    <tr>\n",
       "      <th>2</th>\n",
       "      <td>545570</td>\n",
       "      <td>1</td>\n",
       "      <td>757</td>\n",
       "      <td>1</td>\n",
       "      <td>20155.0076058/9</td>\n",
       "      <td>R</td>\n",
       "      <td>I</td>\n",
       "      <td>V</td>\n",
       "      <td>2015-10-13</td>\n",
       "      <td>1013.0</td>\n",
       "      <td>NaN</td>\n",
       "      <td>NaT</td>\n",
       "    </tr>\n",
       "  </tbody>\n",
       "</table>\n",
       "</div>"
      ],
      "text/plain": [
       "   CodePolice_id  codeCompagnie codeAgence  typeIntermediaire  \\\n",
       "0         545568              1        599                  1   \n",
       "1         545569              1        655                  1   \n",
       "2         545570              1        757                  1   \n",
       "\n",
       "         numPolice naturePolice typePolice Etat_Police dateEffetPolice  \\\n",
       "0  20155.0076050/6            R          I           R      2015-10-13   \n",
       "1  20155.0076056/5            R          I           V      2015-10-13   \n",
       "2  20155.0076058/9            R          I           V      2015-10-13   \n",
       "\n",
       "   dateEcheancePolice dateRemiseEnVigueure dateRemiseEnVigueureajuste  \n",
       "0              1013.0                  NaN                        NaT  \n",
       "1              1013.0                  NaN                        NaT  \n",
       "2              1013.0                  NaN                        NaT  "
      ]
     },
     "execution_count": 25,
     "metadata": {},
     "output_type": "execute_result"
    }
   ],
   "source": [
    "police.head(3)"
   ]
  },
  {
   "cell_type": "code",
   "execution_count": 26,
   "metadata": {},
   "outputs": [
    {
     "data": {
      "text/plain": [
       "CodePolice_id                      0\n",
       "codeCompagnie                      0\n",
       "codeAgence                         0\n",
       "typeIntermediaire                  0\n",
       "numPolice                          0\n",
       "naturePolice                       0\n",
       "typePolice                         0\n",
       "Etat_Police                        0\n",
       "dateEffetPolice                    0\n",
       "dateEcheancePolice             91884\n",
       "dateRemiseEnVigueure          937280\n",
       "dateRemiseEnVigueureajuste    937280\n",
       "dtype: int64"
      ]
     },
     "execution_count": 26,
     "metadata": {},
     "output_type": "execute_result"
    }
   ],
   "source": [
    "police.isnull().sum()"
   ]
  },
  {
   "cell_type": "code",
   "execution_count": 27,
   "metadata": {},
   "outputs": [
    {
     "data": {
      "text/plain": [
       "2018-10-17 00:00:00.000000    711\n",
       "2018-10-02 00:00:00.000000    701\n",
       "2018-10-18 00:00:00.000000    698\n",
       "2018-10-25 00:00:00.000000    695\n",
       "2018-11-01 00:00:00.000000    691\n",
       "                             ... \n",
       "2019-07-08 00:00:00.000000      1\n",
       "2019-07-15 00:00:00.000000      1\n",
       "2019-04-30 00:00:00.000000      1\n",
       "1994-11-29 00:00:00.000000      1\n",
       "2005-11-12 00:00:00.000000      1\n",
       "Name: dateRemiseEnVigueure, Length: 667, dtype: int64"
      ]
     },
     "execution_count": 27,
     "metadata": {},
     "output_type": "execute_result"
    }
   ],
   "source": [
    "police[\"dateRemiseEnVigueure\"].value_counts()"
   ]
  },
  {
   "cell_type": "code",
   "execution_count": 28,
   "metadata": {},
   "outputs": [
    {
     "data": {
      "text/plain": [
       "1041           101088957\n",
       "17379    CI0555N00090308\n",
       "Name: numPolice, dtype: object"
      ]
     },
     "execution_count": 28,
     "metadata": {},
     "output_type": "execute_result"
    }
   ],
   "source": [
    "police[police[\"numPolice\"].duplicated()][\"numPolice\"]"
   ]
  },
  {
   "cell_type": "code",
   "execution_count": 29,
   "metadata": {},
   "outputs": [
    {
     "data": {
      "text/html": [
       "<div>\n",
       "<style scoped>\n",
       "    .dataframe tbody tr th:only-of-type {\n",
       "        vertical-align: middle;\n",
       "    }\n",
       "\n",
       "    .dataframe tbody tr th {\n",
       "        vertical-align: top;\n",
       "    }\n",
       "\n",
       "    .dataframe thead th {\n",
       "        text-align: right;\n",
       "    }\n",
       "</style>\n",
       "<table border=\"1\" class=\"dataframe\">\n",
       "  <thead>\n",
       "    <tr style=\"text-align: right;\">\n",
       "      <th></th>\n",
       "      <th>CodePolice_id</th>\n",
       "      <th>codeCompagnie</th>\n",
       "      <th>codeAgence</th>\n",
       "      <th>typeIntermediaire</th>\n",
       "      <th>numPolice</th>\n",
       "      <th>naturePolice</th>\n",
       "      <th>typePolice</th>\n",
       "      <th>Etat_Police</th>\n",
       "      <th>dateEffetPolice</th>\n",
       "      <th>dateEcheancePolice</th>\n",
       "      <th>dateRemiseEnVigueure</th>\n",
       "      <th>dateRemiseEnVigueureajuste</th>\n",
       "    </tr>\n",
       "  </thead>\n",
       "  <tbody>\n",
       "    <tr>\n",
       "      <th>6908</th>\n",
       "      <td>1089378</td>\n",
       "      <td>11</td>\n",
       "      <td>191</td>\n",
       "      <td>1</td>\n",
       "      <td>101088957</td>\n",
       "      <td>R</td>\n",
       "      <td>I</td>\n",
       "      <td>V</td>\n",
       "      <td>2017-11-18</td>\n",
       "      <td>1118.0</td>\n",
       "      <td>NaN</td>\n",
       "      <td>NaT</td>\n",
       "    </tr>\n",
       "    <tr>\n",
       "      <th>1041</th>\n",
       "      <td>2727203</td>\n",
       "      <td>11</td>\n",
       "      <td>191</td>\n",
       "      <td>1</td>\n",
       "      <td>101088957</td>\n",
       "      <td>R</td>\n",
       "      <td>I</td>\n",
       "      <td>V</td>\n",
       "      <td>2017-11-18 00:00:00</td>\n",
       "      <td>1118.0</td>\n",
       "      <td>2017-11-18 00:00:00.000000</td>\n",
       "      <td>2017-11-18</td>\n",
       "    </tr>\n",
       "  </tbody>\n",
       "</table>\n",
       "</div>"
      ],
      "text/plain": [
       "      CodePolice_id  codeCompagnie codeAgence  typeIntermediaire  numPolice  \\\n",
       "6908        1089378             11        191                  1  101088957   \n",
       "1041        2727203             11        191                  1  101088957   \n",
       "\n",
       "     naturePolice typePolice Etat_Police      dateEffetPolice  \\\n",
       "6908            R          I           V           2017-11-18   \n",
       "1041            R          I           V  2017-11-18 00:00:00   \n",
       "\n",
       "      dateEcheancePolice        dateRemiseEnVigueure  \\\n",
       "6908              1118.0                         NaN   \n",
       "1041              1118.0  2017-11-18 00:00:00.000000   \n",
       "\n",
       "     dateRemiseEnVigueureajuste  \n",
       "6908                        NaT  \n",
       "1041                 2017-11-18  "
      ]
     },
     "execution_count": 29,
     "metadata": {},
     "output_type": "execute_result"
    }
   ],
   "source": [
    "police[police[\"numPolice\"]==\"101088957\"]"
   ]
  },
  {
   "cell_type": "code",
   "execution_count": 30,
   "metadata": {},
   "outputs": [
    {
     "data": {
      "text/html": [
       "<div>\n",
       "<style scoped>\n",
       "    .dataframe tbody tr th:only-of-type {\n",
       "        vertical-align: middle;\n",
       "    }\n",
       "\n",
       "    .dataframe tbody tr th {\n",
       "        vertical-align: top;\n",
       "    }\n",
       "\n",
       "    .dataframe thead th {\n",
       "        text-align: right;\n",
       "    }\n",
       "</style>\n",
       "<table border=\"1\" class=\"dataframe\">\n",
       "  <thead>\n",
       "    <tr style=\"text-align: right;\">\n",
       "      <th></th>\n",
       "      <th>CodePolice_id</th>\n",
       "      <th>codeCompagnie</th>\n",
       "      <th>codeAgence</th>\n",
       "      <th>typeIntermediaire</th>\n",
       "      <th>numPolice</th>\n",
       "      <th>naturePolice</th>\n",
       "      <th>typePolice</th>\n",
       "      <th>Etat_Police</th>\n",
       "      <th>dateEffetPolice</th>\n",
       "      <th>dateEcheancePolice</th>\n",
       "      <th>dateRemiseEnVigueure</th>\n",
       "      <th>dateRemiseEnVigueureajuste</th>\n",
       "    </tr>\n",
       "  </thead>\n",
       "  <tbody>\n",
       "    <tr>\n",
       "      <th>633640</th>\n",
       "      <td>880065</td>\n",
       "      <td>14</td>\n",
       "      <td>822</td>\n",
       "      <td>1</td>\n",
       "      <td>CI0555N00090308</td>\n",
       "      <td>R</td>\n",
       "      <td>I</td>\n",
       "      <td>V</td>\n",
       "      <td>2017-11-30</td>\n",
       "      <td>1130.0</td>\n",
       "      <td>NaN</td>\n",
       "      <td>NaT</td>\n",
       "    </tr>\n",
       "    <tr>\n",
       "      <th>17379</th>\n",
       "      <td>2757053</td>\n",
       "      <td>14</td>\n",
       "      <td>822</td>\n",
       "      <td>1</td>\n",
       "      <td>CI0555N00090308</td>\n",
       "      <td>R</td>\n",
       "      <td>I</td>\n",
       "      <td>V</td>\n",
       "      <td>2017-11-30 00:00:00</td>\n",
       "      <td>1130.0</td>\n",
       "      <td>2017-11-30 00:00:00.000000</td>\n",
       "      <td>2017-11-30</td>\n",
       "    </tr>\n",
       "  </tbody>\n",
       "</table>\n",
       "</div>"
      ],
      "text/plain": [
       "        CodePolice_id  codeCompagnie codeAgence  typeIntermediaire  \\\n",
       "633640         880065             14        822                  1   \n",
       "17379         2757053             14        822                  1   \n",
       "\n",
       "              numPolice naturePolice typePolice Etat_Police  \\\n",
       "633640  CI0555N00090308            R          I           V   \n",
       "17379   CI0555N00090308            R          I           V   \n",
       "\n",
       "            dateEffetPolice  dateEcheancePolice        dateRemiseEnVigueure  \\\n",
       "633640           2017-11-30              1130.0                         NaN   \n",
       "17379   2017-11-30 00:00:00              1130.0  2017-11-30 00:00:00.000000   \n",
       "\n",
       "       dateRemiseEnVigueureajuste  \n",
       "633640                        NaT  \n",
       "17379                  2017-11-30  "
      ]
     },
     "execution_count": 30,
     "metadata": {},
     "output_type": "execute_result"
    }
   ],
   "source": [
    "police[police[\"numPolice\"]==\"CI0555N00090308\"]"
   ]
  },
  {
   "cell_type": "code",
   "execution_count": 31,
   "metadata": {},
   "outputs": [],
   "source": [
    "police.drop(police[police[\"CodePolice_id\"]==\"880065\"].index, inplace = True)"
   ]
  },
  {
   "cell_type": "code",
   "execution_count": 32,
   "metadata": {},
   "outputs": [],
   "source": [
    "police.drop(police[police[\"CodePolice_id\"]==\"1089378\"].index, inplace = True)"
   ]
  },
  {
   "cell_type": "code",
   "execution_count": 34,
   "metadata": {},
   "outputs": [
    {
     "data": {
      "text/plain": [
       "CodePolice_id                      0\n",
       "codeCompagnie                      0\n",
       "codeAgence                         0\n",
       "typeIntermediaire                  0\n",
       "numPolice                          0\n",
       "naturePolice                       0\n",
       "typePolice                         0\n",
       "Etat_Police                        0\n",
       "dateEffetPolice                    0\n",
       "dateEcheancePolice             91884\n",
       "dateRemiseEnVigueure          937280\n",
       "dateRemiseEnVigueureajuste    937280\n",
       "dtype: int64"
      ]
     },
     "execution_count": 34,
     "metadata": {},
     "output_type": "execute_result"
    }
   ],
   "source": [
    "police.isnull().sum()"
   ]
  },
  {
   "cell_type": "code",
   "execution_count": null,
   "metadata": {},
   "outputs": [],
   "source": []
  },
  {
   "cell_type": "code",
   "execution_count": null,
   "metadata": {},
   "outputs": [],
   "source": []
  },
  {
   "cell_type": "code",
   "execution_count": null,
   "metadata": {},
   "outputs": [],
   "source": []
  },
  {
   "cell_type": "code",
   "execution_count": null,
   "metadata": {},
   "outputs": [],
   "source": []
  },
  {
   "cell_type": "code",
   "execution_count": 35,
   "metadata": {},
   "outputs": [],
   "source": [
    "police.to_csv(\"Dataset_clean/police_clean.csv\",index=False)"
   ]
  },
  {
   "cell_type": "code",
   "execution_count": null,
   "metadata": {},
   "outputs": [],
   "source": []
  },
  {
   "cell_type": "code",
   "execution_count": null,
   "metadata": {},
   "outputs": [],
   "source": []
  },
  {
   "cell_type": "code",
   "execution_count": null,
   "metadata": {},
   "outputs": [],
   "source": []
  },
  {
   "cell_type": "code",
   "execution_count": null,
   "metadata": {},
   "outputs": [],
   "source": []
  }
 ],
 "metadata": {
  "kernelspec": {
   "display_name": "Python 3",
   "language": "python",
   "name": "python3"
  },
  "language_info": {
   "codemirror_mode": {
    "name": "ipython",
    "version": 3
   },
   "file_extension": ".py",
   "mimetype": "text/x-python",
   "name": "python",
   "nbconvert_exporter": "python",
   "pygments_lexer": "ipython3",
   "version": "3.7.6"
  }
 },
 "nbformat": 4,
 "nbformat_minor": 4
}
