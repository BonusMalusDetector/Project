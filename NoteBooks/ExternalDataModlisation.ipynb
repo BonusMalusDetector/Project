{
 "cells": [
  {
   "cell_type": "code",
   "execution_count": 1,
   "metadata": {},
   "outputs": [],
   "source": [
    "#importation des librairies nécessaires\n",
    "import numpy as np\n",
    "import pandas as pd\n",
    "import matplotlib.pyplot as plt\n",
    "from sklearn.metrics import mean_squared_error\n",
    "from sklearn.ensemble import RandomForestRegressor\n"
   ]
  },
  {
   "cell_type": "code",
   "execution_count": 2,
   "metadata": {},
   "outputs": [],
   "source": [
    "sinistre_clean= pd.read_csv('Dataset_clean/sinistre_clean_weather.csv',low_memory=False)"
   ]
  },
  {
   "cell_type": "code",
   "execution_count": 121,
   "metadata": {},
   "outputs": [],
   "source": [
    "ariana_manouba= pd.read_csv('Dataset_clean/ariana_manouba.csv',low_memory=False)"
   ]
  },
  {
   "cell_type": "code",
   "execution_count": 4,
   "metadata": {},
   "outputs": [],
   "source": [
    "df=sinistre_clean[~sinistre_clean[\"temperatureMinimale\"].isnull()]"
   ]
  },
  {
   "cell_type": "code",
   "execution_count": 123,
   "metadata": {},
   "outputs": [],
   "source": [
    "df2=ariana_manouba[ (~ariana_manouba[\"temperatureMinimale\"].isnull()) & (ariana_manouba[\"lieuDuSinistreajuste\"].isin([\"ariana\",\"manouba\"]))]"
   ]
  },
  {
   "cell_type": "code",
   "execution_count": 4,
   "metadata": {},
   "outputs": [
    {
     "data": {
      "text/plain": [
       "Index(['sinistre_id', 'cga_police_id', 'cga_vehicule_id', 'cga_assure_id',\n",
       "       'dateDeSurvenanceDuSinistre', 'heureSurvanceDusinistre',\n",
       "       'dateOuvertureDuSinistre', 'lieuDuSinistre', 'identificationTiers',\n",
       "       'pourcentadeDeResponsabilite', 'numeroDePoliceCompagnieAdverse',\n",
       "       'codeCompagnieAdverse', 'porcentageCompagnieAdverse',\n",
       "       'numeroImmatriculationVehiculeAdverse',\n",
       "       'typeImmatriculationVehiculeAdverse', 'mouvementDusinistre',\n",
       "       'natureDuSinistre', 'Calculer_Sinistre', 'lieuDuSinistreajuste',\n",
       "       'heureSurvanceDusinistreajuste', 'mois', 'saison', 'annee', 'fraude',\n",
       "       'TypeFraude1', 'TypeFraude2', 'TypeFraude3', 'TypeFraude4',\n",
       "       'temperatureMaximale', 'temperatureMinimale', 'vitesseVent', 'Humidite',\n",
       "       'Visibilite', 'etat', 'Precipitations'],\n",
       "      dtype='object')"
      ]
     },
     "execution_count": 4,
     "metadata": {},
     "output_type": "execute_result"
    }
   ],
   "source": [
    "df.columns"
   ]
  },
  {
   "cell_type": "code",
   "execution_count": 124,
   "metadata": {},
   "outputs": [],
   "source": [
    "df=df.drop(columns=['sinistre_id', 'cga_police_id',\"dateOuvertureDuSinistre\", \"mois\",\"saison\",\"annee\",'cga_vehicule_id', 'cga_assure_id','lieuDuSinistre','identificationTiers','pourcentadeDeResponsabilite', 'numeroDePoliceCompagnieAdverse','codeCompagnieAdverse', 'porcentageCompagnieAdverse','numeroImmatriculationVehiculeAdverse','typeImmatriculationVehiculeAdverse', 'heureSurvanceDusinistre','mouvementDusinistre','Calculer_Sinistre','TypeFraude1', 'TypeFraude2', 'TypeFraude3', 'TypeFraude4'])\n",
    "df=df2.drop(columns=['sinistre_id', 'cga_police_id',\"dateOuvertureDuSinistre\", \"mois\",\"saison\",\"annee\",'cga_vehicule_id', 'cga_assure_id','lieuDuSinistre','identificationTiers','pourcentadeDeResponsabilite', 'numeroDePoliceCompagnieAdverse','codeCompagnieAdverse', 'porcentageCompagnieAdverse','numeroImmatriculationVehiculeAdverse','typeImmatriculationVehiculeAdverse', 'heureSurvanceDusinistre','mouvementDusinistre','Calculer_Sinistre','TypeFraude1', 'TypeFraude2', 'TypeFraude3', 'TypeFraude4'])"
   ]
  },
  {
   "cell_type": "code",
   "execution_count": 125,
   "metadata": {},
   "outputs": [],
   "source": [
    "df=df[df[\"fraude\"]==0]\n",
    "df2=df2[df2[\"fraude\"]==0]"
   ]
  },
  {
   "cell_type": "code",
   "execution_count": 126,
   "metadata": {},
   "outputs": [],
   "source": [
    "df.drop(columns=[\"fraude\"],inplace=True)\n",
    "df2.drop(columns=[\"fraude\"],inplace=True)"
   ]
  },
  {
   "cell_type": "code",
   "execution_count": 128,
   "metadata": {
    "scrolled": true
   },
   "outputs": [
    {
     "data": {
      "text/html": [
       "<div>\n",
       "<style scoped>\n",
       "    .dataframe tbody tr th:only-of-type {\n",
       "        vertical-align: middle;\n",
       "    }\n",
       "\n",
       "    .dataframe tbody tr th {\n",
       "        vertical-align: top;\n",
       "    }\n",
       "\n",
       "    .dataframe thead th {\n",
       "        text-align: right;\n",
       "    }\n",
       "</style>\n",
       "<table border=\"1\" class=\"dataframe\">\n",
       "  <thead>\n",
       "    <tr style=\"text-align: right;\">\n",
       "      <th></th>\n",
       "      <th>sinistre_id</th>\n",
       "      <th>cga_police_id</th>\n",
       "      <th>cga_vehicule_id</th>\n",
       "      <th>cga_assure_id</th>\n",
       "      <th>dateDeSurvenanceDuSinistre</th>\n",
       "      <th>heureSurvanceDusinistre</th>\n",
       "      <th>dateOuvertureDuSinistre</th>\n",
       "      <th>lieuDuSinistre</th>\n",
       "      <th>identificationTiers</th>\n",
       "      <th>pourcentadeDeResponsabilite</th>\n",
       "      <th>...</th>\n",
       "      <th>TypeFraude2</th>\n",
       "      <th>TypeFraude3</th>\n",
       "      <th>TypeFraude4</th>\n",
       "      <th>temperatureMaximale</th>\n",
       "      <th>temperatureMinimale</th>\n",
       "      <th>vitesseVent</th>\n",
       "      <th>Humidite</th>\n",
       "      <th>Visibilite</th>\n",
       "      <th>etat</th>\n",
       "      <th>Precipitations</th>\n",
       "    </tr>\n",
       "  </thead>\n",
       "  <tbody>\n",
       "    <tr>\n",
       "      <th>11749</th>\n",
       "      <td>12400</td>\n",
       "      <td>1243091</td>\n",
       "      <td>996862</td>\n",
       "      <td>973711</td>\n",
       "      <td>2017-10-17</td>\n",
       "      <td>1730.0</td>\n",
       "      <td>2017-10-19</td>\n",
       "      <td>ROUTE DE SOKRA KM3</td>\n",
       "      <td>NaN</td>\n",
       "      <td>0</td>\n",
       "      <td>...</td>\n",
       "      <td>0</td>\n",
       "      <td>0</td>\n",
       "      <td>0</td>\n",
       "      <td>26.0</td>\n",
       "      <td>23.0</td>\n",
       "      <td>13.0</td>\n",
       "      <td>53.0</td>\n",
       "      <td>10.000</td>\n",
       "      <td>Ciel dégagé  pleinement ensoleillé</td>\n",
       "      <td>-1.0</td>\n",
       "    </tr>\n",
       "    <tr>\n",
       "      <th>11776</th>\n",
       "      <td>12432</td>\n",
       "      <td>1243388</td>\n",
       "      <td>997112</td>\n",
       "      <td>973986</td>\n",
       "      <td>2017-10-09</td>\n",
       "      <td>0.0</td>\n",
       "      <td>2017-10-20</td>\n",
       "      <td>SOUKRA</td>\n",
       "      <td>NaN</td>\n",
       "      <td>100</td>\n",
       "      <td>...</td>\n",
       "      <td>0</td>\n",
       "      <td>0</td>\n",
       "      <td>0</td>\n",
       "      <td>30.0</td>\n",
       "      <td>23.0</td>\n",
       "      <td>32.0</td>\n",
       "      <td>67.0</td>\n",
       "      <td>9.625</td>\n",
       "      <td>Soleil et partiellement nuageux</td>\n",
       "      <td>4.0</td>\n",
       "    </tr>\n",
       "    <tr>\n",
       "      <th>11781</th>\n",
       "      <td>12437</td>\n",
       "      <td>1243425</td>\n",
       "      <td>997142</td>\n",
       "      <td>974023</td>\n",
       "      <td>2018-01-14</td>\n",
       "      <td>1200.0</td>\n",
       "      <td>2018-01-15</td>\n",
       "      <td>LA GAZELLE</td>\n",
       "      <td>NaN</td>\n",
       "      <td>0</td>\n",
       "      <td>...</td>\n",
       "      <td>0</td>\n",
       "      <td>0</td>\n",
       "      <td>0</td>\n",
       "      <td>15.0</td>\n",
       "      <td>12.0</td>\n",
       "      <td>13.0</td>\n",
       "      <td>66.0</td>\n",
       "      <td>10.000</td>\n",
       "      <td>Ciel dégagé  pleinement ensoleillé</td>\n",
       "      <td>0.0</td>\n",
       "    </tr>\n",
       "    <tr>\n",
       "      <th>11792</th>\n",
       "      <td>12449</td>\n",
       "      <td>1243541</td>\n",
       "      <td>997240</td>\n",
       "      <td>974135</td>\n",
       "      <td>2017-09-12</td>\n",
       "      <td>1410.0</td>\n",
       "      <td>2017-09-18</td>\n",
       "      <td>LA SOUKRA</td>\n",
       "      <td>NaN</td>\n",
       "      <td>0</td>\n",
       "      <td>...</td>\n",
       "      <td>0</td>\n",
       "      <td>0</td>\n",
       "      <td>0</td>\n",
       "      <td>15.0</td>\n",
       "      <td>13.0</td>\n",
       "      <td>22.0</td>\n",
       "      <td>70.0</td>\n",
       "      <td>10.000</td>\n",
       "      <td>Nuageux</td>\n",
       "      <td>1.0</td>\n",
       "    </tr>\n",
       "    <tr>\n",
       "      <th>11794</th>\n",
       "      <td>12451</td>\n",
       "      <td>1243481</td>\n",
       "      <td>507934</td>\n",
       "      <td>974079</td>\n",
       "      <td>2017-04-06</td>\n",
       "      <td>1400.0</td>\n",
       "      <td>2017-04-07</td>\n",
       "      <td>ARIANA</td>\n",
       "      <td>A</td>\n",
       "      <td>0</td>\n",
       "      <td>...</td>\n",
       "      <td>0</td>\n",
       "      <td>0</td>\n",
       "      <td>0</td>\n",
       "      <td>29.0</td>\n",
       "      <td>27.0</td>\n",
       "      <td>17.0</td>\n",
       "      <td>37.0</td>\n",
       "      <td>10.000</td>\n",
       "      <td>Soleil et partiellement nuageux</td>\n",
       "      <td>0.0</td>\n",
       "    </tr>\n",
       "  </tbody>\n",
       "</table>\n",
       "<p>5 rows × 34 columns</p>\n",
       "</div>"
      ],
      "text/plain": [
       "       sinistre_id  cga_police_id  cga_vehicule_id  cga_assure_id  \\\n",
       "11749        12400        1243091           996862         973711   \n",
       "11776        12432        1243388           997112         973986   \n",
       "11781        12437        1243425           997142         974023   \n",
       "11792        12449        1243541           997240         974135   \n",
       "11794        12451        1243481           507934         974079   \n",
       "\n",
       "      dateDeSurvenanceDuSinistre  heureSurvanceDusinistre  \\\n",
       "11749                 2017-10-17                   1730.0   \n",
       "11776                 2017-10-09                      0.0   \n",
       "11781                 2018-01-14                   1200.0   \n",
       "11792                 2017-09-12                   1410.0   \n",
       "11794                 2017-04-06                   1400.0   \n",
       "\n",
       "      dateOuvertureDuSinistre      lieuDuSinistre identificationTiers  \\\n",
       "11749              2017-10-19  ROUTE DE SOKRA KM3                 NaN   \n",
       "11776              2017-10-20              SOUKRA                 NaN   \n",
       "11781              2018-01-15          LA GAZELLE                 NaN   \n",
       "11792              2017-09-18           LA SOUKRA                 NaN   \n",
       "11794              2017-04-07              ARIANA                   A   \n",
       "\n",
       "       pourcentadeDeResponsabilite  ... TypeFraude2  TypeFraude3  TypeFraude4  \\\n",
       "11749                            0  ...           0            0            0   \n",
       "11776                          100  ...           0            0            0   \n",
       "11781                            0  ...           0            0            0   \n",
       "11792                            0  ...           0            0            0   \n",
       "11794                            0  ...           0            0            0   \n",
       "\n",
       "      temperatureMaximale temperatureMinimale  vitesseVent Humidite  \\\n",
       "11749                26.0                23.0         13.0     53.0   \n",
       "11776                30.0                23.0         32.0     67.0   \n",
       "11781                15.0                12.0         13.0     66.0   \n",
       "11792                15.0                13.0         22.0     70.0   \n",
       "11794                29.0                27.0         17.0     37.0   \n",
       "\n",
       "       Visibilite                                etat  Precipitations  \n",
       "11749      10.000  Ciel dégagé  pleinement ensoleillé            -1.0  \n",
       "11776       9.625     Soleil et partiellement nuageux             4.0  \n",
       "11781      10.000  Ciel dégagé  pleinement ensoleillé             0.0  \n",
       "11792      10.000                             Nuageux             1.0  \n",
       "11794      10.000     Soleil et partiellement nuageux             0.0  \n",
       "\n",
       "[5 rows x 34 columns]"
      ]
     },
     "execution_count": 128,
     "metadata": {},
     "output_type": "execute_result"
    }
   ],
   "source": [
    "df2.head()"
   ]
  },
  {
   "cell_type": "code",
   "execution_count": 2,
   "metadata": {},
   "outputs": [],
   "source": [
    "weather= pd.read_csv('Dataset_clean/weather_Finale.csv')"
   ]
  },
  {
   "cell_type": "code",
   "execution_count": 4,
   "metadata": {},
   "outputs": [
    {
     "data": {
      "text/html": [
       "<div>\n",
       "<style scoped>\n",
       "    .dataframe tbody tr th:only-of-type {\n",
       "        vertical-align: middle;\n",
       "    }\n",
       "\n",
       "    .dataframe tbody tr th {\n",
       "        vertical-align: top;\n",
       "    }\n",
       "\n",
       "    .dataframe thead th {\n",
       "        text-align: right;\n",
       "    }\n",
       "</style>\n",
       "<table border=\"1\" class=\"dataframe\">\n",
       "  <thead>\n",
       "    <tr style=\"text-align: right;\">\n",
       "      <th></th>\n",
       "      <th>lieu</th>\n",
       "      <th>date</th>\n",
       "      <th>temperatureMaximale (°)</th>\n",
       "      <th>temperatureMinimale (°)</th>\n",
       "      <th>vitesseVent  (km/h)</th>\n",
       "      <th>Humidite (%)</th>\n",
       "      <th>Visibilite (km)</th>\n",
       "      <th>etat</th>\n",
       "      <th>Precipitations (mm)</th>\n",
       "    </tr>\n",
       "  </thead>\n",
       "  <tbody>\n",
       "    <tr>\n",
       "      <th>0</th>\n",
       "      <td>tunis</td>\n",
       "      <td>2017-01-01</td>\n",
       "      <td>12</td>\n",
       "      <td>11</td>\n",
       "      <td>12.0</td>\n",
       "      <td>61</td>\n",
       "      <td>10.000</td>\n",
       "      <td>Nuageux</td>\n",
       "      <td>0.0</td>\n",
       "    </tr>\n",
       "    <tr>\n",
       "      <th>1</th>\n",
       "      <td>tunis</td>\n",
       "      <td>2017-02-01</td>\n",
       "      <td>14</td>\n",
       "      <td>11</td>\n",
       "      <td>9.0</td>\n",
       "      <td>63</td>\n",
       "      <td>10.000</td>\n",
       "      <td>Ciel dégagé  pleinement ensoleillé</td>\n",
       "      <td>-1.0</td>\n",
       "    </tr>\n",
       "    <tr>\n",
       "      <th>2</th>\n",
       "      <td>tunis</td>\n",
       "      <td>2017-03-01</td>\n",
       "      <td>15</td>\n",
       "      <td>12</td>\n",
       "      <td>23.0</td>\n",
       "      <td>54</td>\n",
       "      <td>10.000</td>\n",
       "      <td>Soleil et partiellement nuageux</td>\n",
       "      <td>0.0</td>\n",
       "    </tr>\n",
       "    <tr>\n",
       "      <th>3</th>\n",
       "      <td>tunis</td>\n",
       "      <td>2017-04-01</td>\n",
       "      <td>15</td>\n",
       "      <td>14</td>\n",
       "      <td>31.0</td>\n",
       "      <td>69</td>\n",
       "      <td>10.000</td>\n",
       "      <td>Soleil et partiellement nuageux</td>\n",
       "      <td>1.0</td>\n",
       "    </tr>\n",
       "    <tr>\n",
       "      <th>4</th>\n",
       "      <td>tunis</td>\n",
       "      <td>2017-05-01</td>\n",
       "      <td>15</td>\n",
       "      <td>14</td>\n",
       "      <td>52.0</td>\n",
       "      <td>62</td>\n",
       "      <td>9.875</td>\n",
       "      <td>Nuageux</td>\n",
       "      <td>3.0</td>\n",
       "    </tr>\n",
       "  </tbody>\n",
       "</table>\n",
       "</div>"
      ],
      "text/plain": [
       "    lieu        date  temperatureMaximale (°)   temperatureMinimale (°)  \\\n",
       "0  tunis  2017-01-01                        12                       11   \n",
       "1  tunis  2017-02-01                        14                       11   \n",
       "2  tunis  2017-03-01                        15                       12   \n",
       "3  tunis  2017-04-01                        15                       14   \n",
       "4  tunis  2017-05-01                        15                       14   \n",
       "\n",
       "   vitesseVent  (km/h)  Humidite (%)  Visibilite (km)  \\\n",
       "0                 12.0            61           10.000   \n",
       "1                  9.0            63           10.000   \n",
       "2                 23.0            54           10.000   \n",
       "3                 31.0            69           10.000   \n",
       "4                 52.0            62            9.875   \n",
       "\n",
       "                                 etat  Precipitations (mm)  \n",
       "0                             Nuageux                  0.0  \n",
       "1  Ciel dégagé  pleinement ensoleillé                 -1.0  \n",
       "2     Soleil et partiellement nuageux                  0.0  \n",
       "3     Soleil et partiellement nuageux                  1.0  \n",
       "4                             Nuageux                  3.0  "
      ]
     },
     "execution_count": 4,
     "metadata": {},
     "output_type": "execute_result"
    }
   ],
   "source": [
    "weather.head(5)"
   ]
  },
  {
   "cell_type": "code",
   "execution_count": 5,
   "metadata": {},
   "outputs": [
    {
     "data": {
      "text/plain": [
       "array(['sfax', 'tunis', 'beja', 'gabes', 'nabeul', 'mahdia', 'jendouba',\n",
       "       'ben arous', 'zaghouan', 'sousse', 'monastir', 'sidi bouzid',\n",
       "       'bizerte', 'kebili', 'kef', 'kairouan', 'medenine', 'gafsa',\n",
       "       'kasserine', 'tozeur', 'tataouine', 'siliana'], dtype=object)"
      ]
     },
     "execution_count": 5,
     "metadata": {},
     "output_type": "execute_result"
    }
   ],
   "source": [
    "df[\"lieuDuSinistreajuste\"].unique()"
   ]
  },
  {
   "cell_type": "code",
   "execution_count": 131,
   "metadata": {},
   "outputs": [],
   "source": [
    "df_new=df.groupby(['dateDeSurvenanceDuSinistre','lieuDuSinistreajuste']).lieuDuSinistreajuste.agg('count').to_frame('NombreSinistre').reset_index()"
   ]
  },
  {
   "cell_type": "code",
   "execution_count": 132,
   "metadata": {},
   "outputs": [],
   "source": [
    "df_new2=df2.groupby(['dateDeSurvenanceDuSinistre','lieuDuSinistreajuste']).lieuDuSinistreajuste.agg('count').to_frame('NombreSinistre').reset_index()"
   ]
  },
  {
   "cell_type": "code",
   "execution_count": 134,
   "metadata": {},
   "outputs": [],
   "source": [
    "df_new[\"temperatureMaximale\"]=np.nan\n",
    "df_new[\"temperatureMinimale\"]=np.nan\n",
    "df_new[\"vitesseVent\"]=np.nan\n",
    "df_new[\"Humidite\"]=np.nan\n",
    "df_new[\"Visibilite\"]=np.nan\n",
    "df_new[\"etat\"]=np.nan\n",
    "df_new[\"Precipitations\"]=np.nan"
   ]
  },
  {
   "cell_type": "code",
   "execution_count": 135,
   "metadata": {},
   "outputs": [],
   "source": [
    "df_new2[\"temperatureMaximale\"]=np.nan\n",
    "df_new2[\"temperatureMinimale\"]=np.nan\n",
    "df_new2[\"vitesseVent\"]=np.nan\n",
    "df_new2[\"Humidite\"]=np.nan\n",
    "df_new2[\"Visibilite\"]=np.nan\n",
    "df_new2[\"etat\"]=np.nan\n",
    "df_new2[\"Precipitations\"]=np.nan"
   ]
  },
  {
   "cell_type": "code",
   "execution_count": 136,
   "metadata": {},
   "outputs": [],
   "source": [
    "df_new=df_new[['dateDeSurvenanceDuSinistre', 'lieuDuSinistreajuste',\n",
    "       'temperatureMaximale', 'temperatureMinimale', 'vitesseVent', 'Humidite',\n",
    "       'Visibilite', 'etat', 'Precipitations','NombreSinistre']]"
   ]
  },
  {
   "cell_type": "code",
   "execution_count": 80,
   "metadata": {},
   "outputs": [],
   "source": [
    "for value in df_new[  df_new[\"Precipitations\"].isnull() ][[\"dateDeSurvenanceDuSinistre\",\"lieuDuSinistreajuste\"]].values:\n",
    "    for weather_value in weather[[\"date\",\"lieu\",\"temperatureMaximale (°) \",\"temperatureMinimale (°)\",\"vitesseVent  (km/h)\",\"Humidite (%)\",\"Visibilite (km)\",\"etat\",\"Precipitations (mm)\"]].values:\n",
    "        if (value[0]==weather_value[0] and value[1]==weather_value[1] ):\n",
    "            df_new.loc[((df_new[\"dateDeSurvenanceDuSinistre\"]==value[0]) & (df_new[\"lieuDuSinistreajuste\"]==value[1])),'temperatureMaximale']=weather_value[2]\n",
    "            df_new.loc[((df_new[\"dateDeSurvenanceDuSinistre\"]==value[0]) & (df_new[\"lieuDuSinistreajuste\"]==value[1])),'temperatureMinimale']=weather_value[3]\n",
    "            df_new.loc[((df_new[\"dateDeSurvenanceDuSinistre\"]==value[0]) & (df_new[\"lieuDuSinistreajuste\"]==value[1])),'vitesseVent']=weather_value[4]\n",
    "            df_new.loc[((df_new[\"dateDeSurvenanceDuSinistre\"]==value[0]) & (df_new[\"lieuDuSinistreajuste\"]==value[1])),'Humidite']=weather_value[5]\n",
    "            df_new.loc[((df_new[\"dateDeSurvenanceDuSinistre\"]==value[0]) & (df_new[\"lieuDuSinistreajuste\"]==value[1])),'Visibilite']=weather_value[6]\n",
    "            df_new.loc[((df_new[\"dateDeSurvenanceDuSinistre\"]==value[0]) & (df_new[\"lieuDuSinistreajuste\"]==value[1])),'etat']=weather_value[7]\n",
    "            df_new.loc[((df_new[\"dateDeSurvenanceDuSinistre\"]==value[0]) & (df_new[\"lieuDuSinistreajuste\"]==value[1])),'Precipitations']=weather_value[8]"
   ]
  },
  {
   "cell_type": "code",
   "execution_count": 37,
   "metadata": {},
   "outputs": [],
   "source": [
    "for value in df_new2[  df_new2[\"Precipitations\"].isnull() ][[\"dateDeSurvenanceDuSinistre\",\"lieuDuSinistreajuste\"]].values:\n",
    "    for weather_value in weather[weather[\"lieu\"]==\"tunis\"][[\"date\",\"lieu\",\"temperatureMaximale (°) \",\"temperatureMinimale (°)\",\"vitesseVent  (km/h)\",\"Humidite (%)\",\"Visibilite (km)\",\"etat\",\"Precipitations (mm)\"]].values:\n",
    "        if (value[0]==weather_value[0]  ):\n",
    "            df_new2.loc[((df_new2[\"dateDeSurvenanceDuSinistre\"]==value[0]) ),'temperatureMaximale']=weather_value[2]\n",
    "            df_new2.loc[((df_new2[\"dateDeSurvenanceDuSinistre\"]==value[0]) ),'temperatureMinimale']=weather_value[3]\n",
    "            df_new2.loc[((df_new2[\"dateDeSurvenanceDuSinistre\"]==value[0]) ),'vitesseVent']=weather_value[4]\n",
    "            df_new2.loc[((df_new2[\"dateDeSurvenanceDuSinistre\"]==value[0]) ),'Humidite']=weather_value[5]\n",
    "            df_new2.loc[((df_new2[\"dateDeSurvenanceDuSinistre\"]==value[0]) ),'Visibilite']=weather_value[6]\n",
    "            df_new2.loc[((df_new2[\"dateDeSurvenanceDuSinistre\"]==value[0]) ),'etat']=weather_value[7]\n",
    "            df_new2.loc[((df_new2[\"dateDeSurvenanceDuSinistre\"]==value[0]) ),'Precipitations']=weather_value[8]"
   ]
  },
  {
   "cell_type": "code",
   "execution_count": 38,
   "metadata": {},
   "outputs": [
    {
     "data": {
      "text/html": [
       "<div>\n",
       "<style scoped>\n",
       "    .dataframe tbody tr th:only-of-type {\n",
       "        vertical-align: middle;\n",
       "    }\n",
       "\n",
       "    .dataframe tbody tr th {\n",
       "        vertical-align: top;\n",
       "    }\n",
       "\n",
       "    .dataframe thead th {\n",
       "        text-align: right;\n",
       "    }\n",
       "</style>\n",
       "<table border=\"1\" class=\"dataframe\">\n",
       "  <thead>\n",
       "    <tr style=\"text-align: right;\">\n",
       "      <th></th>\n",
       "      <th>dateDeSurvenanceDuSinistre</th>\n",
       "      <th>lieuDuSinistreajuste</th>\n",
       "      <th>NombreSinistre</th>\n",
       "      <th>temperatureMaximale</th>\n",
       "      <th>temperatureMinimale</th>\n",
       "      <th>vitesseVent</th>\n",
       "      <th>Humidite</th>\n",
       "      <th>Visibilite</th>\n",
       "      <th>etat</th>\n",
       "      <th>Precipitations</th>\n",
       "    </tr>\n",
       "  </thead>\n",
       "  <tbody>\n",
       "    <tr>\n",
       "      <th>0</th>\n",
       "      <td>2017-01-01</td>\n",
       "      <td>ariana</td>\n",
       "      <td>3</td>\n",
       "      <td>12.0</td>\n",
       "      <td>11.0</td>\n",
       "      <td>12.0</td>\n",
       "      <td>61.0</td>\n",
       "      <td>10.000</td>\n",
       "      <td>Nuageux</td>\n",
       "      <td>0.0</td>\n",
       "    </tr>\n",
       "    <tr>\n",
       "      <th>1</th>\n",
       "      <td>2017-01-02</td>\n",
       "      <td>ariana</td>\n",
       "      <td>8</td>\n",
       "      <td>17.0</td>\n",
       "      <td>13.0</td>\n",
       "      <td>19.0</td>\n",
       "      <td>57.0</td>\n",
       "      <td>10.000</td>\n",
       "      <td>Ciel dégagé  pleinement ensoleillé</td>\n",
       "      <td>-1.0</td>\n",
       "    </tr>\n",
       "    <tr>\n",
       "      <th>2</th>\n",
       "      <td>2017-01-02</td>\n",
       "      <td>manouba</td>\n",
       "      <td>1</td>\n",
       "      <td>17.0</td>\n",
       "      <td>13.0</td>\n",
       "      <td>19.0</td>\n",
       "      <td>57.0</td>\n",
       "      <td>10.000</td>\n",
       "      <td>Ciel dégagé  pleinement ensoleillé</td>\n",
       "      <td>-1.0</td>\n",
       "    </tr>\n",
       "    <tr>\n",
       "      <th>3</th>\n",
       "      <td>2017-01-03</td>\n",
       "      <td>ariana</td>\n",
       "      <td>10</td>\n",
       "      <td>17.0</td>\n",
       "      <td>15.0</td>\n",
       "      <td>26.0</td>\n",
       "      <td>72.0</td>\n",
       "      <td>10.000</td>\n",
       "      <td>Ciel dégagé  pleinement ensoleillé</td>\n",
       "      <td>1.0</td>\n",
       "    </tr>\n",
       "    <tr>\n",
       "      <th>4</th>\n",
       "      <td>2017-01-03</td>\n",
       "      <td>manouba</td>\n",
       "      <td>5</td>\n",
       "      <td>17.0</td>\n",
       "      <td>15.0</td>\n",
       "      <td>26.0</td>\n",
       "      <td>72.0</td>\n",
       "      <td>10.000</td>\n",
       "      <td>Ciel dégagé  pleinement ensoleillé</td>\n",
       "      <td>1.0</td>\n",
       "    </tr>\n",
       "    <tr>\n",
       "      <th>...</th>\n",
       "      <td>...</td>\n",
       "      <td>...</td>\n",
       "      <td>...</td>\n",
       "      <td>...</td>\n",
       "      <td>...</td>\n",
       "      <td>...</td>\n",
       "      <td>...</td>\n",
       "      <td>...</td>\n",
       "      <td>...</td>\n",
       "      <td>...</td>\n",
       "    </tr>\n",
       "    <tr>\n",
       "      <th>1772</th>\n",
       "      <td>2019-09-13</td>\n",
       "      <td>manouba</td>\n",
       "      <td>1</td>\n",
       "      <td>28.0</td>\n",
       "      <td>26.0</td>\n",
       "      <td>17.0</td>\n",
       "      <td>64.0</td>\n",
       "      <td>10.000</td>\n",
       "      <td>Soleil et partiellement nuageux</td>\n",
       "      <td>-1.0</td>\n",
       "    </tr>\n",
       "    <tr>\n",
       "      <th>1773</th>\n",
       "      <td>2019-09-18</td>\n",
       "      <td>manouba</td>\n",
       "      <td>3</td>\n",
       "      <td>31.0</td>\n",
       "      <td>28.0</td>\n",
       "      <td>13.0</td>\n",
       "      <td>64.0</td>\n",
       "      <td>9.875</td>\n",
       "      <td>Soleil et partiellement nuageux</td>\n",
       "      <td>1.0</td>\n",
       "    </tr>\n",
       "    <tr>\n",
       "      <th>1774</th>\n",
       "      <td>2019-09-19</td>\n",
       "      <td>manouba</td>\n",
       "      <td>2</td>\n",
       "      <td>31.0</td>\n",
       "      <td>29.0</td>\n",
       "      <td>16.0</td>\n",
       "      <td>61.0</td>\n",
       "      <td>10.000</td>\n",
       "      <td>Soleil et partiellement nuageux</td>\n",
       "      <td>0.0</td>\n",
       "    </tr>\n",
       "    <tr>\n",
       "      <th>1775</th>\n",
       "      <td>2019-09-20</td>\n",
       "      <td>manouba</td>\n",
       "      <td>1</td>\n",
       "      <td>29.0</td>\n",
       "      <td>27.0</td>\n",
       "      <td>18.0</td>\n",
       "      <td>67.0</td>\n",
       "      <td>9.375</td>\n",
       "      <td>Soleil et partiellement nuageux</td>\n",
       "      <td>2.0</td>\n",
       "    </tr>\n",
       "    <tr>\n",
       "      <th>1776</th>\n",
       "      <td>2019-09-21</td>\n",
       "      <td>manouba</td>\n",
       "      <td>1</td>\n",
       "      <td>30.0</td>\n",
       "      <td>27.0</td>\n",
       "      <td>25.0</td>\n",
       "      <td>74.0</td>\n",
       "      <td>9.625</td>\n",
       "      <td>Soleil et partiellement nuageux</td>\n",
       "      <td>4.0</td>\n",
       "    </tr>\n",
       "  </tbody>\n",
       "</table>\n",
       "<p>1777 rows × 10 columns</p>\n",
       "</div>"
      ],
      "text/plain": [
       "     dateDeSurvenanceDuSinistre lieuDuSinistreajuste  NombreSinistre  \\\n",
       "0                    2017-01-01               ariana               3   \n",
       "1                    2017-01-02               ariana               8   \n",
       "2                    2017-01-02              manouba               1   \n",
       "3                    2017-01-03               ariana              10   \n",
       "4                    2017-01-03              manouba               5   \n",
       "...                         ...                  ...             ...   \n",
       "1772                 2019-09-13              manouba               1   \n",
       "1773                 2019-09-18              manouba               3   \n",
       "1774                 2019-09-19              manouba               2   \n",
       "1775                 2019-09-20              manouba               1   \n",
       "1776                 2019-09-21              manouba               1   \n",
       "\n",
       "      temperatureMaximale  temperatureMinimale  vitesseVent  Humidite  \\\n",
       "0                    12.0                 11.0         12.0      61.0   \n",
       "1                    17.0                 13.0         19.0      57.0   \n",
       "2                    17.0                 13.0         19.0      57.0   \n",
       "3                    17.0                 15.0         26.0      72.0   \n",
       "4                    17.0                 15.0         26.0      72.0   \n",
       "...                   ...                  ...          ...       ...   \n",
       "1772                 28.0                 26.0         17.0      64.0   \n",
       "1773                 31.0                 28.0         13.0      64.0   \n",
       "1774                 31.0                 29.0         16.0      61.0   \n",
       "1775                 29.0                 27.0         18.0      67.0   \n",
       "1776                 30.0                 27.0         25.0      74.0   \n",
       "\n",
       "      Visibilite                                etat  Precipitations  \n",
       "0         10.000                             Nuageux             0.0  \n",
       "1         10.000  Ciel dégagé  pleinement ensoleillé            -1.0  \n",
       "2         10.000  Ciel dégagé  pleinement ensoleillé            -1.0  \n",
       "3         10.000  Ciel dégagé  pleinement ensoleillé             1.0  \n",
       "4         10.000  Ciel dégagé  pleinement ensoleillé             1.0  \n",
       "...          ...                                 ...             ...  \n",
       "1772      10.000     Soleil et partiellement nuageux            -1.0  \n",
       "1773       9.875     Soleil et partiellement nuageux             1.0  \n",
       "1774      10.000     Soleil et partiellement nuageux             0.0  \n",
       "1775       9.375     Soleil et partiellement nuageux             2.0  \n",
       "1776       9.625     Soleil et partiellement nuageux             4.0  \n",
       "\n",
       "[1777 rows x 10 columns]"
      ]
     },
     "execution_count": 38,
     "metadata": {},
     "output_type": "execute_result"
    }
   ],
   "source": [
    "df_new2"
   ]
  },
  {
   "cell_type": "code",
   "execution_count": 41,
   "metadata": {},
   "outputs": [],
   "source": [
    "#df_new.to_csv(\"Dataset_clean/sinistre_weather.csv\",index=False)\n",
    "#df_new=pd.read_csv('Dataset_clean/sinistre_weather.csv')"
   ]
  },
  {
   "cell_type": "code",
   "execution_count": 43,
   "metadata": {},
   "outputs": [],
   "source": [
    "#data=pd.concat([df_new,df_new2])"
   ]
  },
  {
   "cell_type": "code",
   "execution_count": 44,
   "metadata": {},
   "outputs": [],
   "source": [
    "#data.to_csv(\"Dataset_clean/External_Data.csv\",index=False)"
   ]
  },
  {
   "cell_type": "code",
   "execution_count": 2,
   "metadata": {},
   "outputs": [],
   "source": [
    "data=pd.read_csv('Dataset_clean/External_Data.csv')"
   ]
  },
  {
   "cell_type": "code",
   "execution_count": 3,
   "metadata": {
    "scrolled": true
   },
   "outputs": [
    {
     "data": {
      "text/html": [
       "<div>\n",
       "<style scoped>\n",
       "    .dataframe tbody tr th:only-of-type {\n",
       "        vertical-align: middle;\n",
       "    }\n",
       "\n",
       "    .dataframe tbody tr th {\n",
       "        vertical-align: top;\n",
       "    }\n",
       "\n",
       "    .dataframe thead th {\n",
       "        text-align: right;\n",
       "    }\n",
       "</style>\n",
       "<table border=\"1\" class=\"dataframe\">\n",
       "  <thead>\n",
       "    <tr style=\"text-align: right;\">\n",
       "      <th></th>\n",
       "      <th>dateDeSurvenanceDuSinistre</th>\n",
       "      <th>lieuDuSinistreajuste</th>\n",
       "      <th>temperatureMaximale</th>\n",
       "      <th>temperatureMinimale</th>\n",
       "      <th>vitesseVent</th>\n",
       "      <th>Humidite</th>\n",
       "      <th>Visibilite</th>\n",
       "      <th>etat</th>\n",
       "      <th>Precipitations</th>\n",
       "      <th>NombreSinistre</th>\n",
       "    </tr>\n",
       "  </thead>\n",
       "  <tbody>\n",
       "    <tr>\n",
       "      <th>0</th>\n",
       "      <td>2017-01-01</td>\n",
       "      <td>beja</td>\n",
       "      <td>12.0</td>\n",
       "      <td>9.0</td>\n",
       "      <td>8.0</td>\n",
       "      <td>66.0</td>\n",
       "      <td>10.000</td>\n",
       "      <td>Nuageux</td>\n",
       "      <td>-1.0</td>\n",
       "      <td>2</td>\n",
       "    </tr>\n",
       "    <tr>\n",
       "      <th>1</th>\n",
       "      <td>2017-01-01</td>\n",
       "      <td>ben arous</td>\n",
       "      <td>12.0</td>\n",
       "      <td>9.0</td>\n",
       "      <td>10.0</td>\n",
       "      <td>64.0</td>\n",
       "      <td>10.000</td>\n",
       "      <td>Couvert</td>\n",
       "      <td>0.0</td>\n",
       "      <td>7</td>\n",
       "    </tr>\n",
       "    <tr>\n",
       "      <th>2</th>\n",
       "      <td>2017-01-01</td>\n",
       "      <td>kairouan</td>\n",
       "      <td>13.0</td>\n",
       "      <td>10.0</td>\n",
       "      <td>8.0</td>\n",
       "      <td>56.0</td>\n",
       "      <td>10.000</td>\n",
       "      <td>Nuageux</td>\n",
       "      <td>-1.0</td>\n",
       "      <td>2</td>\n",
       "    </tr>\n",
       "    <tr>\n",
       "      <th>3</th>\n",
       "      <td>2017-01-01</td>\n",
       "      <td>kasserine</td>\n",
       "      <td>8.0</td>\n",
       "      <td>6.0</td>\n",
       "      <td>13.0</td>\n",
       "      <td>63.0</td>\n",
       "      <td>10.000</td>\n",
       "      <td>Soleil et partiellement nuageux</td>\n",
       "      <td>-1.0</td>\n",
       "      <td>1</td>\n",
       "    </tr>\n",
       "    <tr>\n",
       "      <th>4</th>\n",
       "      <td>2017-01-01</td>\n",
       "      <td>mahdia</td>\n",
       "      <td>14.0</td>\n",
       "      <td>10.0</td>\n",
       "      <td>16.0</td>\n",
       "      <td>59.0</td>\n",
       "      <td>10.000</td>\n",
       "      <td>Couvert</td>\n",
       "      <td>0.0</td>\n",
       "      <td>1</td>\n",
       "    </tr>\n",
       "    <tr>\n",
       "      <th>...</th>\n",
       "      <td>...</td>\n",
       "      <td>...</td>\n",
       "      <td>...</td>\n",
       "      <td>...</td>\n",
       "      <td>...</td>\n",
       "      <td>...</td>\n",
       "      <td>...</td>\n",
       "      <td>...</td>\n",
       "      <td>...</td>\n",
       "      <td>...</td>\n",
       "    </tr>\n",
       "    <tr>\n",
       "      <th>16930</th>\n",
       "      <td>2019-09-13</td>\n",
       "      <td>manouba</td>\n",
       "      <td>28.0</td>\n",
       "      <td>26.0</td>\n",
       "      <td>17.0</td>\n",
       "      <td>64.0</td>\n",
       "      <td>10.000</td>\n",
       "      <td>Soleil et partiellement nuageux</td>\n",
       "      <td>-1.0</td>\n",
       "      <td>1</td>\n",
       "    </tr>\n",
       "    <tr>\n",
       "      <th>16931</th>\n",
       "      <td>2019-09-18</td>\n",
       "      <td>manouba</td>\n",
       "      <td>31.0</td>\n",
       "      <td>28.0</td>\n",
       "      <td>13.0</td>\n",
       "      <td>64.0</td>\n",
       "      <td>9.875</td>\n",
       "      <td>Soleil et partiellement nuageux</td>\n",
       "      <td>1.0</td>\n",
       "      <td>3</td>\n",
       "    </tr>\n",
       "    <tr>\n",
       "      <th>16932</th>\n",
       "      <td>2019-09-19</td>\n",
       "      <td>manouba</td>\n",
       "      <td>31.0</td>\n",
       "      <td>29.0</td>\n",
       "      <td>16.0</td>\n",
       "      <td>61.0</td>\n",
       "      <td>10.000</td>\n",
       "      <td>Soleil et partiellement nuageux</td>\n",
       "      <td>0.0</td>\n",
       "      <td>2</td>\n",
       "    </tr>\n",
       "    <tr>\n",
       "      <th>16933</th>\n",
       "      <td>2019-09-20</td>\n",
       "      <td>manouba</td>\n",
       "      <td>29.0</td>\n",
       "      <td>27.0</td>\n",
       "      <td>18.0</td>\n",
       "      <td>67.0</td>\n",
       "      <td>9.375</td>\n",
       "      <td>Soleil et partiellement nuageux</td>\n",
       "      <td>2.0</td>\n",
       "      <td>1</td>\n",
       "    </tr>\n",
       "    <tr>\n",
       "      <th>16934</th>\n",
       "      <td>2019-09-21</td>\n",
       "      <td>manouba</td>\n",
       "      <td>30.0</td>\n",
       "      <td>27.0</td>\n",
       "      <td>25.0</td>\n",
       "      <td>74.0</td>\n",
       "      <td>9.625</td>\n",
       "      <td>Soleil et partiellement nuageux</td>\n",
       "      <td>4.0</td>\n",
       "      <td>1</td>\n",
       "    </tr>\n",
       "  </tbody>\n",
       "</table>\n",
       "<p>16935 rows × 10 columns</p>\n",
       "</div>"
      ],
      "text/plain": [
       "      dateDeSurvenanceDuSinistre lieuDuSinistreajuste  temperatureMaximale  \\\n",
       "0                     2017-01-01                 beja                 12.0   \n",
       "1                     2017-01-01            ben arous                 12.0   \n",
       "2                     2017-01-01             kairouan                 13.0   \n",
       "3                     2017-01-01            kasserine                  8.0   \n",
       "4                     2017-01-01               mahdia                 14.0   \n",
       "...                          ...                  ...                  ...   \n",
       "16930                 2019-09-13              manouba                 28.0   \n",
       "16931                 2019-09-18              manouba                 31.0   \n",
       "16932                 2019-09-19              manouba                 31.0   \n",
       "16933                 2019-09-20              manouba                 29.0   \n",
       "16934                 2019-09-21              manouba                 30.0   \n",
       "\n",
       "       temperatureMinimale  vitesseVent  Humidite  Visibilite  \\\n",
       "0                      9.0          8.0      66.0      10.000   \n",
       "1                      9.0         10.0      64.0      10.000   \n",
       "2                     10.0          8.0      56.0      10.000   \n",
       "3                      6.0         13.0      63.0      10.000   \n",
       "4                     10.0         16.0      59.0      10.000   \n",
       "...                    ...          ...       ...         ...   \n",
       "16930                 26.0         17.0      64.0      10.000   \n",
       "16931                 28.0         13.0      64.0       9.875   \n",
       "16932                 29.0         16.0      61.0      10.000   \n",
       "16933                 27.0         18.0      67.0       9.375   \n",
       "16934                 27.0         25.0      74.0       9.625   \n",
       "\n",
       "                                  etat  Precipitations  NombreSinistre  \n",
       "0                              Nuageux            -1.0               2  \n",
       "1                              Couvert             0.0               7  \n",
       "2                              Nuageux            -1.0               2  \n",
       "3      Soleil et partiellement nuageux            -1.0               1  \n",
       "4                              Couvert             0.0               1  \n",
       "...                                ...             ...             ...  \n",
       "16930  Soleil et partiellement nuageux            -1.0               1  \n",
       "16931  Soleil et partiellement nuageux             1.0               3  \n",
       "16932  Soleil et partiellement nuageux             0.0               2  \n",
       "16933  Soleil et partiellement nuageux             2.0               1  \n",
       "16934  Soleil et partiellement nuageux             4.0               1  \n",
       "\n",
       "[16935 rows x 10 columns]"
      ]
     },
     "execution_count": 3,
     "metadata": {},
     "output_type": "execute_result"
    }
   ],
   "source": [
    "data"
   ]
  },
  {
   "cell_type": "code",
   "execution_count": 184,
   "metadata": {},
   "outputs": [
    {
     "data": {
      "text/plain": [
       "array(['Nuageux', 'Couvert', 'Soleil et partiellement nuageux',\n",
       "       'Ciel dégagé  pleinement ensoleillé', 'Foyers orageux à proximité',\n",
       "       'Averses de pluie et orages', 'Pluie légère et soleil',\n",
       "       'Faibles averses de pluie', 'Bruine légère partielle',\n",
       "       'Faible pluie en continue', 'Faible pluie non continue',\n",
       "       'Pluie modérée en continue', 'Pluie forte ou modéré',\n",
       "       'Pluie modérée non continue', 'Bruine légère',\n",
       "       'Forte pluie et orages', 'Forte pluie continue'], dtype=object)"
      ]
     },
     "execution_count": 184,
     "metadata": {},
     "output_type": "execute_result"
    }
   ],
   "source": [
    "data[\"etat\"].unique()"
   ]
  },
  {
   "cell_type": "code",
   "execution_count": null,
   "metadata": {},
   "outputs": [],
   "source": []
  },
  {
   "cell_type": "code",
   "execution_count": 4,
   "metadata": {},
   "outputs": [],
   "source": [
    "from sklearn.preprocessing import LabelEncoder\n",
    "le = LabelEncoder()\n",
    "data[\"lieu_encode\"]=le.fit_transform(data[\"lieuDuSinistreajuste\"])"
   ]
  },
  {
   "cell_type": "code",
   "execution_count": 5,
   "metadata": {
    "scrolled": true
   },
   "outputs": [
    {
     "name": "stdout",
     "output_type": "stream",
     "text": [
      "[19]\n"
     ]
    }
   ],
   "source": [
    "print(le.transform([\"sousse\"]))"
   ]
  },
  {
   "cell_type": "code",
   "execution_count": 7,
   "metadata": {},
   "outputs": [],
   "source": [
    "le_etat = LabelEncoder()\n",
    "data[\"etat_encode\"]=le_etat.fit_transform(data[\"etat\"])"
   ]
  },
  {
   "cell_type": "code",
   "execution_count": 8,
   "metadata": {},
   "outputs": [
    {
     "name": "stdout",
     "output_type": "stream",
     "text": [
      "[12]\n"
     ]
    }
   ],
   "source": [
    "print(le_etat.transform([\"Pluie forte ou modéré\"]))"
   ]
  },
  {
   "cell_type": "code",
   "execution_count": 10,
   "metadata": {},
   "outputs": [],
   "source": [
    "data.drop(columns=[\"lieuDuSinistreajuste\",\"etat\"],inplace=True)"
   ]
  },
  {
   "cell_type": "code",
   "execution_count": 11,
   "metadata": {},
   "outputs": [],
   "source": [
    "data['dateDeSurvenanceDuSinistre']=pd.to_datetime(data['dateDeSurvenanceDuSinistre'])"
   ]
  },
  {
   "cell_type": "code",
   "execution_count": 12,
   "metadata": {},
   "outputs": [],
   "source": [
    "#CONVERSION LA dateEffetPolice EN ANNEE , mois , jour\n",
    "data['annee'] = pd.DatetimeIndex(data['dateDeSurvenanceDuSinistre']).year\n",
    "data['mois'] = pd.DatetimeIndex(data['dateDeSurvenanceDuSinistre']).month\n",
    "data['jour'] = pd.DatetimeIndex(data['dateDeSurvenanceDuSinistre']).day"
   ]
  },
  {
   "cell_type": "code",
   "execution_count": 13,
   "metadata": {},
   "outputs": [],
   "source": [
    "data.drop(columns=[\"dateDeSurvenanceDuSinistre\"],inplace=True)"
   ]
  },
  {
   "cell_type": "code",
   "execution_count": 14,
   "metadata": {},
   "outputs": [],
   "source": [
    "data[\"temperature\"]=np.round((data['temperatureMaximale']+data['temperatureMinimale'])/2)"
   ]
  },
  {
   "cell_type": "code",
   "execution_count": 15,
   "metadata": {
    "scrolled": true
   },
   "outputs": [
    {
     "data": {
      "text/plain": [
       "Index(['temperatureMaximale', 'temperatureMinimale', 'vitesseVent', 'Humidite',\n",
       "       'Visibilite', 'Precipitations', 'NombreSinistre', 'lieu_encode',\n",
       "       'etat_encode', 'annee', 'mois', 'jour', 'temperature'],\n",
       "      dtype='object')"
      ]
     },
     "execution_count": 15,
     "metadata": {},
     "output_type": "execute_result"
    }
   ],
   "source": [
    "data.columns"
   ]
  },
  {
   "cell_type": "code",
   "execution_count": 16,
   "metadata": {},
   "outputs": [],
   "source": [
    "data=data.drop(columns=[\"temperatureMaximale\",\"temperatureMinimale\"])"
   ]
  },
  {
   "cell_type": "code",
   "execution_count": 17,
   "metadata": {},
   "outputs": [],
   "source": [
    "data=data[['temperature', 'vitesseVent', 'Humidite','Visibilite', 'Precipitations', 'lieu_encode','etat_encode', 'annee', 'mois', 'jour','NombreSinistre']]"
   ]
  },
  {
   "cell_type": "code",
   "execution_count": 18,
   "metadata": {},
   "outputs": [
    {
     "data": {
      "text/html": [
       "<div>\n",
       "<style scoped>\n",
       "    .dataframe tbody tr th:only-of-type {\n",
       "        vertical-align: middle;\n",
       "    }\n",
       "\n",
       "    .dataframe tbody tr th {\n",
       "        vertical-align: top;\n",
       "    }\n",
       "\n",
       "    .dataframe thead th {\n",
       "        text-align: right;\n",
       "    }\n",
       "</style>\n",
       "<table border=\"1\" class=\"dataframe\">\n",
       "  <thead>\n",
       "    <tr style=\"text-align: right;\">\n",
       "      <th></th>\n",
       "      <th>temperature</th>\n",
       "      <th>vitesseVent</th>\n",
       "      <th>Humidite</th>\n",
       "      <th>Visibilite</th>\n",
       "      <th>Precipitations</th>\n",
       "      <th>lieu_encode</th>\n",
       "      <th>etat_encode</th>\n",
       "      <th>annee</th>\n",
       "      <th>mois</th>\n",
       "      <th>jour</th>\n",
       "      <th>NombreSinistre</th>\n",
       "    </tr>\n",
       "  </thead>\n",
       "  <tbody>\n",
       "    <tr>\n",
       "      <th>0</th>\n",
       "      <td>10.0</td>\n",
       "      <td>8.0</td>\n",
       "      <td>66.0</td>\n",
       "      <td>10.000</td>\n",
       "      <td>-1.0</td>\n",
       "      <td>1</td>\n",
       "      <td>11</td>\n",
       "      <td>2017</td>\n",
       "      <td>1</td>\n",
       "      <td>1</td>\n",
       "      <td>2</td>\n",
       "    </tr>\n",
       "    <tr>\n",
       "      <th>1</th>\n",
       "      <td>10.0</td>\n",
       "      <td>10.0</td>\n",
       "      <td>64.0</td>\n",
       "      <td>10.000</td>\n",
       "      <td>0.0</td>\n",
       "      <td>2</td>\n",
       "      <td>4</td>\n",
       "      <td>2017</td>\n",
       "      <td>1</td>\n",
       "      <td>1</td>\n",
       "      <td>7</td>\n",
       "    </tr>\n",
       "    <tr>\n",
       "      <th>2</th>\n",
       "      <td>12.0</td>\n",
       "      <td>8.0</td>\n",
       "      <td>56.0</td>\n",
       "      <td>10.000</td>\n",
       "      <td>-1.0</td>\n",
       "      <td>7</td>\n",
       "      <td>11</td>\n",
       "      <td>2017</td>\n",
       "      <td>1</td>\n",
       "      <td>1</td>\n",
       "      <td>2</td>\n",
       "    </tr>\n",
       "    <tr>\n",
       "      <th>3</th>\n",
       "      <td>7.0</td>\n",
       "      <td>13.0</td>\n",
       "      <td>63.0</td>\n",
       "      <td>10.000</td>\n",
       "      <td>-1.0</td>\n",
       "      <td>8</td>\n",
       "      <td>16</td>\n",
       "      <td>2017</td>\n",
       "      <td>1</td>\n",
       "      <td>1</td>\n",
       "      <td>1</td>\n",
       "    </tr>\n",
       "    <tr>\n",
       "      <th>4</th>\n",
       "      <td>12.0</td>\n",
       "      <td>16.0</td>\n",
       "      <td>59.0</td>\n",
       "      <td>10.000</td>\n",
       "      <td>0.0</td>\n",
       "      <td>11</td>\n",
       "      <td>4</td>\n",
       "      <td>2017</td>\n",
       "      <td>1</td>\n",
       "      <td>1</td>\n",
       "      <td>1</td>\n",
       "    </tr>\n",
       "    <tr>\n",
       "      <th>...</th>\n",
       "      <td>...</td>\n",
       "      <td>...</td>\n",
       "      <td>...</td>\n",
       "      <td>...</td>\n",
       "      <td>...</td>\n",
       "      <td>...</td>\n",
       "      <td>...</td>\n",
       "      <td>...</td>\n",
       "      <td>...</td>\n",
       "      <td>...</td>\n",
       "      <td>...</td>\n",
       "    </tr>\n",
       "    <tr>\n",
       "      <th>16930</th>\n",
       "      <td>27.0</td>\n",
       "      <td>17.0</td>\n",
       "      <td>64.0</td>\n",
       "      <td>10.000</td>\n",
       "      <td>-1.0</td>\n",
       "      <td>12</td>\n",
       "      <td>16</td>\n",
       "      <td>2019</td>\n",
       "      <td>9</td>\n",
       "      <td>13</td>\n",
       "      <td>1</td>\n",
       "    </tr>\n",
       "    <tr>\n",
       "      <th>16931</th>\n",
       "      <td>30.0</td>\n",
       "      <td>13.0</td>\n",
       "      <td>64.0</td>\n",
       "      <td>9.875</td>\n",
       "      <td>1.0</td>\n",
       "      <td>12</td>\n",
       "      <td>16</td>\n",
       "      <td>2019</td>\n",
       "      <td>9</td>\n",
       "      <td>18</td>\n",
       "      <td>3</td>\n",
       "    </tr>\n",
       "    <tr>\n",
       "      <th>16932</th>\n",
       "      <td>30.0</td>\n",
       "      <td>16.0</td>\n",
       "      <td>61.0</td>\n",
       "      <td>10.000</td>\n",
       "      <td>0.0</td>\n",
       "      <td>12</td>\n",
       "      <td>16</td>\n",
       "      <td>2019</td>\n",
       "      <td>9</td>\n",
       "      <td>19</td>\n",
       "      <td>2</td>\n",
       "    </tr>\n",
       "    <tr>\n",
       "      <th>16933</th>\n",
       "      <td>28.0</td>\n",
       "      <td>18.0</td>\n",
       "      <td>67.0</td>\n",
       "      <td>9.375</td>\n",
       "      <td>2.0</td>\n",
       "      <td>12</td>\n",
       "      <td>16</td>\n",
       "      <td>2019</td>\n",
       "      <td>9</td>\n",
       "      <td>20</td>\n",
       "      <td>1</td>\n",
       "    </tr>\n",
       "    <tr>\n",
       "      <th>16934</th>\n",
       "      <td>28.0</td>\n",
       "      <td>25.0</td>\n",
       "      <td>74.0</td>\n",
       "      <td>9.625</td>\n",
       "      <td>4.0</td>\n",
       "      <td>12</td>\n",
       "      <td>16</td>\n",
       "      <td>2019</td>\n",
       "      <td>9</td>\n",
       "      <td>21</td>\n",
       "      <td>1</td>\n",
       "    </tr>\n",
       "  </tbody>\n",
       "</table>\n",
       "<p>16935 rows × 11 columns</p>\n",
       "</div>"
      ],
      "text/plain": [
       "       temperature  vitesseVent  Humidite  Visibilite  Precipitations  \\\n",
       "0             10.0          8.0      66.0      10.000            -1.0   \n",
       "1             10.0         10.0      64.0      10.000             0.0   \n",
       "2             12.0          8.0      56.0      10.000            -1.0   \n",
       "3              7.0         13.0      63.0      10.000            -1.0   \n",
       "4             12.0         16.0      59.0      10.000             0.0   \n",
       "...            ...          ...       ...         ...             ...   \n",
       "16930         27.0         17.0      64.0      10.000            -1.0   \n",
       "16931         30.0         13.0      64.0       9.875             1.0   \n",
       "16932         30.0         16.0      61.0      10.000             0.0   \n",
       "16933         28.0         18.0      67.0       9.375             2.0   \n",
       "16934         28.0         25.0      74.0       9.625             4.0   \n",
       "\n",
       "       lieu_encode  etat_encode  annee  mois  jour  NombreSinistre  \n",
       "0                1           11   2017     1     1               2  \n",
       "1                2            4   2017     1     1               7  \n",
       "2                7           11   2017     1     1               2  \n",
       "3                8           16   2017     1     1               1  \n",
       "4               11            4   2017     1     1               1  \n",
       "...            ...          ...    ...   ...   ...             ...  \n",
       "16930           12           16   2019     9    13               1  \n",
       "16931           12           16   2019     9    18               3  \n",
       "16932           12           16   2019     9    19               2  \n",
       "16933           12           16   2019     9    20               1  \n",
       "16934           12           16   2019     9    21               1  \n",
       "\n",
       "[16935 rows x 11 columns]"
      ]
     },
     "execution_count": 18,
     "metadata": {},
     "output_type": "execute_result"
    }
   ],
   "source": [
    "data"
   ]
  },
  {
   "cell_type": "code",
   "execution_count": 19,
   "metadata": {},
   "outputs": [],
   "source": [
    "data[\"Precipitations\"].replace(-1,0,True)"
   ]
  },
  {
   "cell_type": "markdown",
   "metadata": {},
   "source": [
    "# Modlisation"
   ]
  },
  {
   "cell_type": "code",
   "execution_count": 20,
   "metadata": {},
   "outputs": [],
   "source": [
    "#Partition de la dataframe en une variable à expliquer et des variable explicatives\n",
    "X= data.iloc[:,0:-1]\n",
    "y= data.iloc[:,-1]"
   ]
  },
  {
   "cell_type": "code",
   "execution_count": 21,
   "metadata": {},
   "outputs": [
    {
     "data": {
      "application/javascript": [
       "\n",
       "        if (window._pyforest_update_imports_cell) { window._pyforest_update_imports_cell('from sklearn.model_selection import train_test_split'); }\n",
       "    "
      ],
      "text/plain": [
       "<IPython.core.display.Javascript object>"
      ]
     },
     "metadata": {},
     "output_type": "display_data"
    },
    {
     "data": {
      "application/javascript": [
       "\n",
       "        if (window._pyforest_update_imports_cell) { window._pyforest_update_imports_cell('from sklearn.model_selection import train_test_split'); }\n",
       "    "
      ],
      "text/plain": [
       "<IPython.core.display.Javascript object>"
      ]
     },
     "metadata": {},
     "output_type": "display_data"
    },
    {
     "data": {
      "application/javascript": [
       "\n",
       "        if (window._pyforest_update_imports_cell) { window._pyforest_update_imports_cell('from sklearn.model_selection import train_test_split'); }\n",
       "    "
      ],
      "text/plain": [
       "<IPython.core.display.Javascript object>"
      ]
     },
     "metadata": {},
     "output_type": "display_data"
    },
    {
     "data": {
      "application/javascript": [
       "\n",
       "        if (window._pyforest_update_imports_cell) { window._pyforest_update_imports_cell('from sklearn.model_selection import train_test_split'); }\n",
       "    "
      ],
      "text/plain": [
       "<IPython.core.display.Javascript object>"
      ]
     },
     "metadata": {},
     "output_type": "display_data"
    }
   ],
   "source": [
    "train_test_split?"
   ]
  },
  {
   "cell_type": "code",
   "execution_count": 22,
   "metadata": {},
   "outputs": [],
   "source": [
    "from sklearn.model_selection import train_test_split\n",
    "X_train, X_test, y_train, y_test=train_test_split(X, y, test_size=0.8, random_state=42)"
   ]
  },
  {
   "cell_type": "markdown",
   "metadata": {},
   "source": [
    "# DecisionTreeRegressor"
   ]
  },
  {
   "cell_type": "code",
   "execution_count": 23,
   "metadata": {},
   "outputs": [],
   "source": [
    "from sklearn.tree import DecisionTreeRegressor\n",
    "dtr = DecisionTreeRegressor()\n",
    "dtr.fit(X_train, y_train)\n",
    "y_pred_dtr = dtr.predict(X_test)"
   ]
  },
  {
   "cell_type": "code",
   "execution_count": 24,
   "metadata": {},
   "outputs": [],
   "source": [
    "#Evaluation de la prédiction\n",
    "from sklearn.metrics import mean_absolute_error, mean_squared_error, median_absolute_error, r2_score\n"
   ]
  },
  {
   "cell_type": "code",
   "execution_count": 25,
   "metadata": {},
   "outputs": [
    {
     "name": "stdout",
     "output_type": "stream",
     "text": [
      "train_score =  1.0\n",
      "test_score =  0.814561024477695\n",
      "R2 =  0.814561024477695\n",
      "MAE =  83.35842928845587\n",
      "RMSE =  9.13008375035278\n",
      "MAE =  4.433274284027163\n",
      "MeadianAE =  2.0\n"
     ]
    }
   ],
   "source": [
    "print('train_score = ',dtr.score(X_train,y_train)) \n",
    "print('test_score = ',dtr.score(X_test,y_test)) \n",
    "print('R2 = ',r2_score(y_test, y_pred_dtr))\n",
    "print('MAE = ',mean_squared_error(y_test, y_pred_dtr))\n",
    "print('RMSE = ', np.sqrt(mean_squared_error(y_test, y_pred_dtr)))\n",
    "print('MAE = ', mean_absolute_error(y_test, y_pred_dtr))\n",
    "print('MeadianAE = ', median_absolute_error(y_test, y_pred_dtr))"
   ]
  },
  {
   "cell_type": "markdown",
   "metadata": {},
   "source": [
    "# RandomForestRegressor"
   ]
  },
  {
   "cell_type": "code",
   "execution_count": 26,
   "metadata": {},
   "outputs": [],
   "source": [
    "RFR = RandomForestRegressor()\n",
    "RFR.fit(X_train,y_train)\n",
    "y_pred_rfr = RFR.predict(X_test)"
   ]
  },
  {
   "cell_type": "code",
   "execution_count": 27,
   "metadata": {},
   "outputs": [
    {
     "name": "stdout",
     "output_type": "stream",
     "text": [
      "train_score =  0.9855238506924784\n",
      "test_score =  0.8913483863370181\n",
      "R2 =  0.8913483863370181\n",
      "MAE =  48.84101537496309\n",
      "RMSE =  6.988634728969822\n",
      "MAE =  3.4388005609684087\n",
      "MeadianAE =  1.5099999999999998\n"
     ]
    }
   ],
   "source": [
    "print('train_score = ',RFR.score(X_train,y_train)) \n",
    "print('test_score = ',RFR.score(X_test,y_test)) \n",
    "print('R2 = ',r2_score(y_test, y_pred_rfr))\n",
    "print('MAE = ',mean_squared_error(y_test, y_pred_rfr))\n",
    "print('RMSE = ', np.sqrt(mean_squared_error(y_test, y_pred_rfr)))\n",
    "print('MAE = ', mean_absolute_error(y_test, y_pred_rfr))\n",
    "print('MeadianAE = ', median_absolute_error(y_test, y_pred_rfr))"
   ]
  },
  {
   "cell_type": "code",
   "execution_count": 28,
   "metadata": {},
   "outputs": [],
   "source": [
    "from xgboost import XGBRegressor"
   ]
  },
  {
   "cell_type": "code",
   "execution_count": 29,
   "metadata": {},
   "outputs": [],
   "source": [
    "XGBR = XGBRegressor()\n",
    "XGBR.fit(X_train,y_train)\n",
    "y_pred_xgb = XGBR.predict(X_test)"
   ]
  },
  {
   "cell_type": "code",
   "execution_count": 30,
   "metadata": {
    "scrolled": true
   },
   "outputs": [
    {
     "name": "stdout",
     "output_type": "stream",
     "text": [
      "train_score =  0.9922759498569945\n",
      "test_score =  0.883681904641837\n",
      "R2 =  0.883681904641837\n",
      "MAE =  52.287248134171364\n",
      "RMSE =  7.230992195692882\n",
      "MAE =  3.7509445818297835\n",
      "MeadianAE =  1.9579926133155823\n"
     ]
    }
   ],
   "source": [
    "print('train_score = ',XGBR.score(X_train,y_train)) \n",
    "print('test_score = ',XGBR.score(X_test,y_test)) \n",
    "print('R2 = ',r2_score(y_test, y_pred_xgb))\n",
    "print('MAE = ',mean_squared_error(y_test, y_pred_xgb))\n",
    "print('RMSE = ', np.sqrt(mean_squared_error(y_test, y_pred_xgb)))\n",
    "print('MAE = ', mean_absolute_error(y_test, y_pred_xgb))\n",
    "print('MeadianAE = ', median_absolute_error(y_test, y_pred_xgb))"
   ]
  },
  {
   "cell_type": "markdown",
   "metadata": {},
   "source": [
    " # LGBMRegressor"
   ]
  },
  {
   "cell_type": "code",
   "execution_count": 31,
   "metadata": {},
   "outputs": [],
   "source": [
    "from lightgbm import LGBMRegressor"
   ]
  },
  {
   "cell_type": "code",
   "execution_count": 32,
   "metadata": {},
   "outputs": [],
   "source": [
    "LGBM = LGBMRegressor()\n",
    "LGBM.fit(X_train,y_train)\n",
    "y_pred_LGBM = LGBM.predict(X_test)"
   ]
  },
  {
   "cell_type": "code",
   "execution_count": 33,
   "metadata": {},
   "outputs": [
    {
     "name": "stdout",
     "output_type": "stream",
     "text": [
      "train_score =  0.9608385961846544\n",
      "test_score =  0.892781189897498\n",
      "R2 =  0.892781189897498\n",
      "MAE =  48.196942283294476\n",
      "RMSE =  6.942401766196946\n",
      "MAE =  3.5162217357360954\n",
      "MeadianAE =  1.7185492021253286\n"
     ]
    }
   ],
   "source": [
    "print('train_score = ',LGBM.score(X_train,y_train)) \n",
    "print('test_score = ',LGBM.score(X_test,y_test)) \n",
    "print('R2 = ',r2_score(y_test, y_pred_LGBM))\n",
    "print('MAE = ',mean_squared_error(y_test, y_pred_LGBM))\n",
    "print('RMSE = ', np.sqrt(mean_squared_error(y_test, y_pred_LGBM)))\n",
    "print('MAE = ', mean_absolute_error(y_test, y_pred_LGBM))\n",
    "print('MeadianAE = ', median_absolute_error(y_test, y_pred_LGBM))"
   ]
  },
  {
   "cell_type": "code",
   "execution_count": 6,
   "metadata": {},
   "outputs": [
    {
     "data": {
      "text/plain": [
       "['Location_Encoder.sav']"
      ]
     },
     "execution_count": 6,
     "metadata": {},
     "output_type": "execute_result"
    }
   ],
   "source": [
    "import joblib\n",
    "\n",
    "joblib.dump(le,\"Location_Encoder.sav\")"
   ]
  },
  {
   "cell_type": "code",
   "execution_count": 9,
   "metadata": {},
   "outputs": [],
   "source": [
    "joblib.dump(le_etat,\"weather_Encoder.sav\")"
   ]
  },
  {
   "cell_type": "code",
   "execution_count": 34,
   "metadata": {},
   "outputs": [
    {
     "data": {
      "text/plain": [
       "['LGBM.sav']"
      ]
     },
     "execution_count": 34,
     "metadata": {},
     "output_type": "execute_result"
    }
   ],
   "source": [
    "import joblib\n",
    "\n",
    "joblib.dump(LGBM,\"LGBM.sav\")"
   ]
  },
  {
   "cell_type": "code",
   "execution_count": null,
   "metadata": {},
   "outputs": [],
   "source": []
  },
  {
   "cell_type": "code",
   "execution_count": null,
   "metadata": {},
   "outputs": [],
   "source": []
  }
 ],
 "metadata": {
  "kernelspec": {
   "display_name": "Python 3",
   "language": "python",
   "name": "python3"
  },
  "language_info": {
   "codemirror_mode": {
    "name": "ipython",
    "version": 3
   },
   "file_extension": ".py",
   "mimetype": "text/x-python",
   "name": "python",
   "nbconvert_exporter": "python",
   "pygments_lexer": "ipython3",
   "version": "3.7.6"
  }
 },
 "nbformat": 4,
 "nbformat_minor": 4
}
