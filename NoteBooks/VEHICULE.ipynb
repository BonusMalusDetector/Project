{
 "cells": [
  {
   "cell_type": "code",
   "execution_count": 3,
   "metadata": {},
   "outputs": [],
   "source": [
    "#importation des librairies nécessaires\n",
    "import numpy as np\n",
    "import pandas as pd\n",
    "import matplotlib.pyplot as plt\n",
    "from matplotlib import rcParams\n",
    "import seaborn as sns\n",
    "from pandas_profiling import ProfileReport"
   ]
  },
  {
   "cell_type": "code",
   "execution_count": 4,
   "metadata": {},
   "outputs": [],
   "source": [
    "Vehiculecsv= pd.read_csv('Dataset/Vehicule.csv',sep=\";\")"
   ]
  },
  {
   "cell_type": "code",
   "execution_count": 5,
   "metadata": {},
   "outputs": [],
   "source": [
    "Vehiculexls = pd.read_excel('Dataset/Vehicule.xls')"
   ]
  },
  {
   "cell_type": "code",
   "execution_count": 5,
   "metadata": {},
   "outputs": [
    {
     "data": {
      "text/plain": [
       "(30128, 15)"
      ]
     },
     "execution_count": 5,
     "metadata": {},
     "output_type": "execute_result"
    }
   ],
   "source": [
    "Vehiculecsv.shape"
   ]
  },
  {
   "cell_type": "code",
   "execution_count": 6,
   "metadata": {},
   "outputs": [
    {
     "data": {
      "text/plain": [
       "(1048575, 6)"
      ]
     },
     "execution_count": 6,
     "metadata": {},
     "output_type": "execute_result"
    }
   ],
   "source": [
    "Vehiculexls.shape"
   ]
  },
  {
   "cell_type": "code",
   "execution_count": 7,
   "metadata": {},
   "outputs": [
    {
     "data": {
      "text/plain": [
       "Index(['CodeVehicule_id', 'codeMarque', 'puissanceFiscal',\n",
       "       'typeImmatriculation', 'energie', 'dateInsertion'],\n",
       "      dtype='object')"
      ]
     },
     "execution_count": 7,
     "metadata": {},
     "output_type": "execute_result"
    }
   ],
   "source": [
    "Vehiculexls.columns"
   ]
  },
  {
   "cell_type": "code",
   "execution_count": 8,
   "metadata": {},
   "outputs": [
    {
     "data": {
      "text/plain": [
       "Index(['id', 'numChassis', 'codeMarque', 'puissanceFiscal',\n",
       "       'numImmatriculation', 'typeImmatriculation', 'energie', 'dateInsertion',\n",
       "       'dateDerniereVisite', 'dateAjout', 'etatVehicule', 'dateMiseEpave',\n",
       "       'DATE_RETRAIT', 'dateMiseCirculation', 'dateMiseAjourVehicule'],\n",
       "      dtype='object')"
      ]
     },
     "execution_count": 8,
     "metadata": {},
     "output_type": "execute_result"
    }
   ],
   "source": [
    "Vehiculecsv.columns"
   ]
  },
  {
   "cell_type": "code",
   "execution_count": 9,
   "metadata": {},
   "outputs": [
    {
     "data": {
      "text/html": [
       "<div>\n",
       "<style scoped>\n",
       "    .dataframe tbody tr th:only-of-type {\n",
       "        vertical-align: middle;\n",
       "    }\n",
       "\n",
       "    .dataframe tbody tr th {\n",
       "        vertical-align: top;\n",
       "    }\n",
       "\n",
       "    .dataframe thead th {\n",
       "        text-align: right;\n",
       "    }\n",
       "</style>\n",
       "<table border=\"1\" class=\"dataframe\">\n",
       "  <thead>\n",
       "    <tr style=\"text-align: right;\">\n",
       "      <th></th>\n",
       "      <th>CodeVehicule_id</th>\n",
       "      <th>codeMarque</th>\n",
       "      <th>puissanceFiscal</th>\n",
       "      <th>typeImmatriculation</th>\n",
       "      <th>energie</th>\n",
       "      <th>dateInsertion</th>\n",
       "    </tr>\n",
       "  </thead>\n",
       "  <tbody>\n",
       "    <tr>\n",
       "      <th>0</th>\n",
       "      <td>696264</td>\n",
       "      <td>152</td>\n",
       "      <td>5</td>\n",
       "      <td>TU</td>\n",
       "      <td>ESSENCE</td>\n",
       "      <td>2017-10-05</td>\n",
       "    </tr>\n",
       "    <tr>\n",
       "      <th>1</th>\n",
       "      <td>696265</td>\n",
       "      <td>107</td>\n",
       "      <td>4</td>\n",
       "      <td>TU</td>\n",
       "      <td>ESSENCE</td>\n",
       "      <td>2017-10-05</td>\n",
       "    </tr>\n",
       "    <tr>\n",
       "      <th>2</th>\n",
       "      <td>696266</td>\n",
       "      <td>808</td>\n",
       "      <td>5</td>\n",
       "      <td>TU</td>\n",
       "      <td>ESSENCE</td>\n",
       "      <td>2017-10-05</td>\n",
       "    </tr>\n",
       "  </tbody>\n",
       "</table>\n",
       "</div>"
      ],
      "text/plain": [
       "   CodeVehicule_id  codeMarque  puissanceFiscal typeImmatriculation  energie  \\\n",
       "0           696264         152                5                  TU  ESSENCE   \n",
       "1           696265         107                4                  TU  ESSENCE   \n",
       "2           696266         808                5                  TU  ESSENCE   \n",
       "\n",
       "  dateInsertion  \n",
       "0    2017-10-05  \n",
       "1    2017-10-05  \n",
       "2    2017-10-05  "
      ]
     },
     "execution_count": 9,
     "metadata": {},
     "output_type": "execute_result"
    }
   ],
   "source": [
    "Vehiculexls.head(3)"
   ]
  },
  {
   "cell_type": "code",
   "execution_count": 10,
   "metadata": {},
   "outputs": [
    {
     "data": {
      "text/html": [
       "<div>\n",
       "<style scoped>\n",
       "    .dataframe tbody tr th:only-of-type {\n",
       "        vertical-align: middle;\n",
       "    }\n",
       "\n",
       "    .dataframe tbody tr th {\n",
       "        vertical-align: top;\n",
       "    }\n",
       "\n",
       "    .dataframe thead th {\n",
       "        text-align: right;\n",
       "    }\n",
       "</style>\n",
       "<table border=\"1\" class=\"dataframe\">\n",
       "  <thead>\n",
       "    <tr style=\"text-align: right;\">\n",
       "      <th></th>\n",
       "      <th>id</th>\n",
       "      <th>numChassis</th>\n",
       "      <th>codeMarque</th>\n",
       "      <th>puissanceFiscal</th>\n",
       "      <th>numImmatriculation</th>\n",
       "      <th>typeImmatriculation</th>\n",
       "      <th>energie</th>\n",
       "      <th>dateInsertion</th>\n",
       "      <th>dateDerniereVisite</th>\n",
       "      <th>dateAjout</th>\n",
       "      <th>etatVehicule</th>\n",
       "      <th>dateMiseEpave</th>\n",
       "      <th>DATE_RETRAIT</th>\n",
       "      <th>dateMiseCirculation</th>\n",
       "      <th>dateMiseAjourVehicule</th>\n",
       "    </tr>\n",
       "  </thead>\n",
       "  <tbody>\n",
       "    <tr>\n",
       "      <th>0</th>\n",
       "      <td>61443</td>\n",
       "      <td>WVWZZZ1HZRW334645</td>\n",
       "      <td>107</td>\n",
       "      <td>6</td>\n",
       "      <td>9094TU74</td>\n",
       "      <td>TU</td>\n",
       "      <td>GASOIL</td>\n",
       "      <td>2017-10-05</td>\n",
       "      <td>NaN</td>\n",
       "      <td>2018-02-10 03:01:13.000000</td>\n",
       "      <td>V</td>\n",
       "      <td>NaN</td>\n",
       "      <td>NaN</td>\n",
       "      <td>NaN</td>\n",
       "      <td>NaN</td>\n",
       "    </tr>\n",
       "    <tr>\n",
       "      <th>1</th>\n",
       "      <td>61633</td>\n",
       "      <td>VF34C8FSCAS075280</td>\n",
       "      <td>29</td>\n",
       "      <td>6</td>\n",
       "      <td>5796TU146</td>\n",
       "      <td>TU</td>\n",
       "      <td>ESSENCE</td>\n",
       "      <td>2017-10-05</td>\n",
       "      <td>NaN</td>\n",
       "      <td>2018-02-10 07:12:11.000000</td>\n",
       "      <td>V</td>\n",
       "      <td>NaN</td>\n",
       "      <td>NaN</td>\n",
       "      <td>NaN</td>\n",
       "      <td>NaN</td>\n",
       "    </tr>\n",
       "    <tr>\n",
       "      <th>2</th>\n",
       "      <td>62599</td>\n",
       "      <td>MALA851CAFM211159</td>\n",
       "      <td>503</td>\n",
       "      <td>5</td>\n",
       "      <td>8836TU180</td>\n",
       "      <td>TU</td>\n",
       "      <td>ESSENCE</td>\n",
       "      <td>2017-10-05</td>\n",
       "      <td>NaN</td>\n",
       "      <td>2018-02-10 08:14:27.000000</td>\n",
       "      <td>V</td>\n",
       "      <td>NaN</td>\n",
       "      <td>NaN</td>\n",
       "      <td>NaN</td>\n",
       "      <td>NaN</td>\n",
       "    </tr>\n",
       "  </tbody>\n",
       "</table>\n",
       "</div>"
      ],
      "text/plain": [
       "      id         numChassis  codeMarque  puissanceFiscal numImmatriculation  \\\n",
       "0  61443  WVWZZZ1HZRW334645         107                6           9094TU74   \n",
       "1  61633  VF34C8FSCAS075280          29                6          5796TU146   \n",
       "2  62599  MALA851CAFM211159         503                5          8836TU180   \n",
       "\n",
       "  typeImmatriculation  energie dateInsertion dateDerniereVisite  \\\n",
       "0                  TU   GASOIL    2017-10-05                NaN   \n",
       "1                  TU  ESSENCE    2017-10-05                NaN   \n",
       "2                  TU  ESSENCE    2017-10-05                NaN   \n",
       "\n",
       "                    dateAjout etatVehicule dateMiseEpave  DATE_RETRAIT  \\\n",
       "0  2018-02-10 03:01:13.000000            V           NaN           NaN   \n",
       "1  2018-02-10 07:12:11.000000            V           NaN           NaN   \n",
       "2  2018-02-10 08:14:27.000000            V           NaN           NaN   \n",
       "\n",
       "  dateMiseCirculation dateMiseAjourVehicule  \n",
       "0                 NaN                   NaN  \n",
       "1                 NaN                   NaN  \n",
       "2                 NaN                   NaN  "
      ]
     },
     "execution_count": 10,
     "metadata": {},
     "output_type": "execute_result"
    }
   ],
   "source": [
    "Vehiculecsv.head(3)"
   ]
  },
  {
   "cell_type": "code",
   "execution_count": 11,
   "metadata": {},
   "outputs": [
    {
     "data": {
      "text/plain": [
       "252"
      ]
     },
     "execution_count": 11,
     "metadata": {},
     "output_type": "execute_result"
    }
   ],
   "source": [
    "Vehiculecsv.shape[0]-Vehiculecsv[\"dateDerniereVisite\"].isnull().sum()"
   ]
  },
  {
   "cell_type": "code",
   "execution_count": 12,
   "metadata": {},
   "outputs": [
    {
     "data": {
      "text/plain": [
       "0"
      ]
     },
     "execution_count": 12,
     "metadata": {},
     "output_type": "execute_result"
    }
   ],
   "source": [
    "Vehiculecsv[\"dateAjout\"].isnull().sum()"
   ]
  },
  {
   "cell_type": "code",
   "execution_count": 13,
   "metadata": {},
   "outputs": [
    {
     "data": {
      "text/plain": [
       "0"
      ]
     },
     "execution_count": 13,
     "metadata": {},
     "output_type": "execute_result"
    }
   ],
   "source": [
    "Vehiculecsv[\"etatVehicule\"].isnull().sum()"
   ]
  },
  {
   "cell_type": "code",
   "execution_count": 14,
   "metadata": {},
   "outputs": [
    {
     "data": {
      "text/plain": [
       "1"
      ]
     },
     "execution_count": 14,
     "metadata": {},
     "output_type": "execute_result"
    }
   ],
   "source": [
    "Vehiculecsv.shape[0]-Vehiculecsv[\"dateMiseEpave\"].isnull().sum()"
   ]
  },
  {
   "cell_type": "code",
   "execution_count": 15,
   "metadata": {},
   "outputs": [
    {
     "data": {
      "text/plain": [
       "0"
      ]
     },
     "execution_count": 15,
     "metadata": {},
     "output_type": "execute_result"
    }
   ],
   "source": [
    "Vehiculecsv.shape[0]-Vehiculecsv[\"DATE_RETRAIT\"].isnull().sum()"
   ]
  },
  {
   "cell_type": "code",
   "execution_count": 16,
   "metadata": {},
   "outputs": [
    {
     "data": {
      "text/plain": [
       "8363"
      ]
     },
     "execution_count": 16,
     "metadata": {},
     "output_type": "execute_result"
    }
   ],
   "source": [
    "Vehiculecsv.shape[0]-Vehiculecsv[\"dateMiseCirculation\"].isnull().sum()"
   ]
  },
  {
   "cell_type": "code",
   "execution_count": 17,
   "metadata": {},
   "outputs": [
    {
     "data": {
      "text/plain": [
       "8389"
      ]
     },
     "execution_count": 17,
     "metadata": {},
     "output_type": "execute_result"
    }
   ],
   "source": [
    "Vehiculecsv.shape[0]-Vehiculecsv[\"dateMiseAjourVehicule\"].isnull().sum()"
   ]
  },
  {
   "cell_type": "code",
   "execution_count": 18,
   "metadata": {},
   "outputs": [],
   "source": [
    "Vehiculecsv.drop(columns=[\"DATE_RETRAIT\",\"dateMiseEpave\",\"dateDerniereVisite\"],inplace=True)"
   ]
  },
  {
   "cell_type": "code",
   "execution_count": 19,
   "metadata": {},
   "outputs": [
    {
     "data": {
      "text/plain": [
       "id                           0\n",
       "numChassis                   0\n",
       "codeMarque                   0\n",
       "puissanceFiscal              0\n",
       "numImmatriculation           0\n",
       "typeImmatriculation          0\n",
       "energie                     60\n",
       "dateInsertion                0\n",
       "dateAjout                    0\n",
       "etatVehicule                 0\n",
       "dateMiseCirculation      21765\n",
       "dateMiseAjourVehicule    21739\n",
       "dtype: int64"
      ]
     },
     "execution_count": 19,
     "metadata": {},
     "output_type": "execute_result"
    }
   ],
   "source": [
    "Vehiculecsv.isnull().sum()"
   ]
  },
  {
   "cell_type": "code",
   "execution_count": 20,
   "metadata": {},
   "outputs": [
    {
     "data": {
      "text/plain": [
       "0"
      ]
     },
     "execution_count": 20,
     "metadata": {},
     "output_type": "execute_result"
    }
   ],
   "source": [
    "Vehiculexls.isnull().sum().sum()"
   ]
  },
  {
   "cell_type": "code",
   "execution_count": 21,
   "metadata": {},
   "outputs": [
    {
     "data": {
      "text/plain": [
       "ESSENCE                538041\n",
       "GASOIL                 499079\n",
       "0                        8884\n",
       "ESS-GAZ GPL              2561\n",
       "ESS-GNC                     5\n",
       "ESSENCE-ELECTRICITE         3\n",
       "GAZ  GPL                    1\n",
       "ELECTRICITE                 1\n",
       "Name: energie, dtype: int64"
      ]
     },
     "execution_count": 21,
     "metadata": {},
     "output_type": "execute_result"
    }
   ],
   "source": [
    "Vehiculexls[\"energie\"].value_counts()"
   ]
  },
  {
   "cell_type": "code",
   "execution_count": 22,
   "metadata": {},
   "outputs": [
    {
     "data": {
      "text/plain": [
       "Index(['CodeVehicule_id', 'codeMarque', 'puissanceFiscal',\n",
       "       'typeImmatriculation', 'energie', 'dateInsertion'],\n",
       "      dtype='object')"
      ]
     },
     "execution_count": 22,
     "metadata": {},
     "output_type": "execute_result"
    }
   ],
   "source": [
    "Vehiculexls.columns"
   ]
  },
  {
   "cell_type": "code",
   "execution_count": 23,
   "metadata": {},
   "outputs": [
    {
     "data": {
      "text/plain": [
       "Index(['id', 'numChassis', 'codeMarque', 'puissanceFiscal',\n",
       "       'numImmatriculation', 'typeImmatriculation', 'energie', 'dateInsertion',\n",
       "       'dateAjout', 'etatVehicule', 'dateMiseCirculation',\n",
       "       'dateMiseAjourVehicule'],\n",
       "      dtype='object')"
      ]
     },
     "execution_count": 23,
     "metadata": {},
     "output_type": "execute_result"
    }
   ],
   "source": [
    "Vehiculecsv.columns"
   ]
  },
  {
   "cell_type": "code",
   "execution_count": 24,
   "metadata": {},
   "outputs": [],
   "source": [
    "Vehiculecsv.rename(columns={\"id\": \"CodeVehicule_id\"},inplace=True)"
   ]
  },
  {
   "cell_type": "code",
   "execution_count": 25,
   "metadata": {},
   "outputs": [],
   "source": [
    "Vehicule = pd.concat([Vehiculecsv, Vehiculexls])"
   ]
  },
  {
   "cell_type": "code",
   "execution_count": 26,
   "metadata": {},
   "outputs": [
    {
     "data": {
      "text/plain": [
       "CodeVehicule_id                0\n",
       "numChassis               1048575\n",
       "codeMarque                     0\n",
       "puissanceFiscal                0\n",
       "numImmatriculation       1048575\n",
       "typeImmatriculation            0\n",
       "energie                       60\n",
       "dateInsertion                  0\n",
       "dateAjout                1048575\n",
       "etatVehicule             1048575\n",
       "dateMiseCirculation      1070340\n",
       "dateMiseAjourVehicule    1070314\n",
       "dtype: int64"
      ]
     },
     "execution_count": 26,
     "metadata": {},
     "output_type": "execute_result"
    }
   ],
   "source": [
    "Vehicule.isnull().sum()"
   ]
  },
  {
   "cell_type": "code",
   "execution_count": 27,
   "metadata": {},
   "outputs": [
    {
     "data": {
      "text/plain": [
       "ESSENCE                553388\n",
       "GASOIL                 513644\n",
       "0                        8990\n",
       "ESS-GAZ GPL              2611\n",
       "ESS-GNC                     5\n",
       "ESSENCE-ELECTRICITE         3\n",
       "GAZ  GPL                    1\n",
       "ELECTRICITE                 1\n",
       "Name: energie, dtype: int64"
      ]
     },
     "execution_count": 27,
     "metadata": {},
     "output_type": "execute_result"
    }
   ],
   "source": [
    "Vehicule[\"energie\"].value_counts()"
   ]
  },
  {
   "cell_type": "code",
   "execution_count": 28,
   "metadata": {},
   "outputs": [
    {
     "data": {
      "text/plain": [
       "0     8971\n",
       "23      10\n",
       "24       6\n",
       "3        1\n",
       "16       1\n",
       "8        1\n",
       "Name: puissanceFiscal, dtype: int64"
      ]
     },
     "execution_count": 28,
     "metadata": {},
     "output_type": "execute_result"
    }
   ],
   "source": [
    "Vehicule[Vehicule[\"energie\"]==\"0\"][\"puissanceFiscal\"].value_counts()"
   ]
  },
  {
   "cell_type": "code",
   "execution_count": 29,
   "metadata": {},
   "outputs": [
    {
     "data": {
      "text/plain": [
       "(1078703, 12)"
      ]
     },
     "execution_count": 29,
     "metadata": {},
     "output_type": "execute_result"
    }
   ],
   "source": [
    "Vehicule.shape"
   ]
  },
  {
   "cell_type": "code",
   "execution_count": 30,
   "metadata": {},
   "outputs": [],
   "source": [
    "Vehicule.drop(Vehicule[Vehicule['energie'] ==\"0\"].index, inplace = True)\n"
   ]
  },
  {
   "cell_type": "code",
   "execution_count": 31,
   "metadata": {},
   "outputs": [
    {
     "data": {
      "text/plain": [
       "(1069417, 12)"
      ]
     },
     "execution_count": 31,
     "metadata": {},
     "output_type": "execute_result"
    }
   ],
   "source": [
    "Vehicule.shape"
   ]
  },
  {
   "cell_type": "code",
   "execution_count": 32,
   "metadata": {},
   "outputs": [
    {
     "data": {
      "text/plain": [
       "0     59\n",
       "11     1\n",
       "Name: puissanceFiscal, dtype: int64"
      ]
     },
     "execution_count": 32,
     "metadata": {},
     "output_type": "execute_result"
    }
   ],
   "source": [
    "Vehicule[Vehicule['energie'].isnull()][\"puissanceFiscal\"].value_counts()"
   ]
  },
  {
   "cell_type": "code",
   "execution_count": 33,
   "metadata": {},
   "outputs": [],
   "source": [
    "Vehicule.drop(Vehicule[Vehicule['energie'].isnull()].index, inplace = True)"
   ]
  },
  {
   "cell_type": "code",
   "execution_count": 34,
   "metadata": {},
   "outputs": [
    {
     "data": {
      "text/plain": [
       "(1069297, 12)"
      ]
     },
     "execution_count": 34,
     "metadata": {},
     "output_type": "execute_result"
    }
   ],
   "source": [
    "Vehicule.shape"
   ]
  },
  {
   "cell_type": "code",
   "execution_count": 35,
   "metadata": {},
   "outputs": [
    {
     "data": {
      "text/plain": [
       "CodeVehicule_id                0\n",
       "numChassis               1039525\n",
       "codeMarque                     0\n",
       "puissanceFiscal                0\n",
       "numImmatriculation       1039525\n",
       "typeImmatriculation            0\n",
       "energie                        0\n",
       "dateInsertion                  0\n",
       "dateAjout                1039525\n",
       "etatVehicule             1039525\n",
       "dateMiseCirculation      1061030\n",
       "dateMiseAjourVehicule    1061005\n",
       "dtype: int64"
      ]
     },
     "execution_count": 35,
     "metadata": {},
     "output_type": "execute_result"
    }
   ],
   "source": [
    "Vehicule.isnull().sum()"
   ]
  },
  {
   "cell_type": "code",
   "execution_count": 36,
   "metadata": {},
   "outputs": [
    {
     "data": {
      "text/plain": [
       "array([   6,    5,    4,   13,    7,    9,    8,   10,   12,   11,   16,\n",
       "         15,   34,   17,   14,   65,   21,   28,   29,   18,   20,   30,\n",
       "         32,   31,   25,   24,   39,   37,   46,   57,   52,    3,   19,\n",
       "         22,   23,   26,   33,   66,   45,   51,   27,   62,   43,   36,\n",
       "         75,   70,   80,    2,   40,   42,   63,   59,   78,   69,    1,\n",
       "         68,   74,   41,   35,   47,   49,   67,   38,   76,  123,   44,\n",
       "         77,   89,   64,   56,   98,   82,   55,   86,   88,   99,  249,\n",
       "       1735,   48,   50,   72,   54,   60,   58,  143,  120,  174,   53,\n",
       "         97,  125,  260,  100,   71, 8740,   79,   85,  191,  137,  101,\n",
       "         92,   95,  140,   90,  196,   61])"
      ]
     },
     "execution_count": 36,
     "metadata": {},
     "output_type": "execute_result"
    }
   ],
   "source": [
    "Vehicule[\"puissanceFiscal\"].unique()"
   ]
  },
  {
   "cell_type": "code",
   "execution_count": 37,
   "metadata": {},
   "outputs": [
    {
     "data": {
      "text/html": [
       "<div>\n",
       "<style scoped>\n",
       "    .dataframe tbody tr th:only-of-type {\n",
       "        vertical-align: middle;\n",
       "    }\n",
       "\n",
       "    .dataframe tbody tr th {\n",
       "        vertical-align: top;\n",
       "    }\n",
       "\n",
       "    .dataframe thead th {\n",
       "        text-align: right;\n",
       "    }\n",
       "</style>\n",
       "<table border=\"1\" class=\"dataframe\">\n",
       "  <thead>\n",
       "    <tr style=\"text-align: right;\">\n",
       "      <th></th>\n",
       "      <th>CodeVehicule_id</th>\n",
       "      <th>numChassis</th>\n",
       "      <th>codeMarque</th>\n",
       "      <th>puissanceFiscal</th>\n",
       "      <th>numImmatriculation</th>\n",
       "      <th>typeImmatriculation</th>\n",
       "      <th>energie</th>\n",
       "      <th>dateInsertion</th>\n",
       "      <th>dateAjout</th>\n",
       "      <th>etatVehicule</th>\n",
       "      <th>dateMiseCirculation</th>\n",
       "      <th>dateMiseAjourVehicule</th>\n",
       "    </tr>\n",
       "  </thead>\n",
       "  <tbody>\n",
       "    <tr>\n",
       "      <th>573528</th>\n",
       "      <td>532760</td>\n",
       "      <td>NaN</td>\n",
       "      <td>481</td>\n",
       "      <td>8740</td>\n",
       "      <td>NaN</td>\n",
       "      <td>AA</td>\n",
       "      <td>GASOIL</td>\n",
       "      <td>2017-10-05</td>\n",
       "      <td>NaN</td>\n",
       "      <td>NaN</td>\n",
       "      <td>NaN</td>\n",
       "      <td>NaN</td>\n",
       "    </tr>\n",
       "  </tbody>\n",
       "</table>\n",
       "</div>"
      ],
      "text/plain": [
       "        CodeVehicule_id numChassis  codeMarque  puissanceFiscal  \\\n",
       "573528           532760        NaN         481             8740   \n",
       "\n",
       "       numImmatriculation typeImmatriculation energie dateInsertion dateAjout  \\\n",
       "573528                NaN                  AA  GASOIL    2017-10-05       NaN   \n",
       "\n",
       "       etatVehicule dateMiseCirculation dateMiseAjourVehicule  \n",
       "573528          NaN                 NaN                   NaN  "
      ]
     },
     "execution_count": 37,
     "metadata": {},
     "output_type": "execute_result"
    }
   ],
   "source": [
    "Vehicule[Vehicule[\"puissanceFiscal\"]==8740]"
   ]
  },
  {
   "cell_type": "code",
   "execution_count": 38,
   "metadata": {},
   "outputs": [
    {
     "data": {
      "text/html": [
       "<div>\n",
       "<style scoped>\n",
       "    .dataframe tbody tr th:only-of-type {\n",
       "        vertical-align: middle;\n",
       "    }\n",
       "\n",
       "    .dataframe tbody tr th {\n",
       "        vertical-align: top;\n",
       "    }\n",
       "\n",
       "    .dataframe thead th {\n",
       "        text-align: right;\n",
       "    }\n",
       "</style>\n",
       "<table border=\"1\" class=\"dataframe\">\n",
       "  <thead>\n",
       "    <tr style=\"text-align: right;\">\n",
       "      <th></th>\n",
       "      <th>CodeVehicule_id</th>\n",
       "      <th>numChassis</th>\n",
       "      <th>codeMarque</th>\n",
       "      <th>puissanceFiscal</th>\n",
       "      <th>numImmatriculation</th>\n",
       "      <th>typeImmatriculation</th>\n",
       "      <th>energie</th>\n",
       "      <th>dateInsertion</th>\n",
       "      <th>dateAjout</th>\n",
       "      <th>etatVehicule</th>\n",
       "      <th>dateMiseCirculation</th>\n",
       "      <th>dateMiseAjourVehicule</th>\n",
       "    </tr>\n",
       "  </thead>\n",
       "  <tbody>\n",
       "    <tr>\n",
       "      <th>142547</th>\n",
       "      <td>237326</td>\n",
       "      <td>NaN</td>\n",
       "      <td>425</td>\n",
       "      <td>1735</td>\n",
       "      <td>NaN</td>\n",
       "      <td>ES</td>\n",
       "      <td>GASOIL</td>\n",
       "      <td>2017-10-05</td>\n",
       "      <td>NaN</td>\n",
       "      <td>NaN</td>\n",
       "      <td>NaN</td>\n",
       "      <td>NaN</td>\n",
       "    </tr>\n",
       "  </tbody>\n",
       "</table>\n",
       "</div>"
      ],
      "text/plain": [
       "        CodeVehicule_id numChassis  codeMarque  puissanceFiscal  \\\n",
       "142547           237326        NaN         425             1735   \n",
       "\n",
       "       numImmatriculation typeImmatriculation energie dateInsertion dateAjout  \\\n",
       "142547                NaN                  ES  GASOIL    2017-10-05       NaN   \n",
       "\n",
       "       etatVehicule dateMiseCirculation dateMiseAjourVehicule  \n",
       "142547          NaN                 NaN                   NaN  "
      ]
     },
     "execution_count": 38,
     "metadata": {},
     "output_type": "execute_result"
    }
   ],
   "source": [
    "Vehicule[Vehicule[\"puissanceFiscal\"]==1735]"
   ]
  },
  {
   "cell_type": "code",
   "execution_count": 39,
   "metadata": {},
   "outputs": [],
   "source": [
    "Vehicule.drop(Vehicule[Vehicule['puissanceFiscal']==8740].index, inplace = True)\n",
    "Vehicule.drop(Vehicule[Vehicule['puissanceFiscal']==1735].index, inplace = True)"
   ]
  },
  {
   "cell_type": "code",
   "execution_count": 40,
   "metadata": {},
   "outputs": [
    {
     "data": {
      "text/plain": [
       "array(['TU', 'RS', 'TRAC', 'ES', 'CMD', 'MD', 'CD', '-', 'PAT', 'MOTO',\n",
       "       'MC', 'AA', 'IT', 'CC'], dtype=object)"
      ]
     },
     "execution_count": 40,
     "metadata": {},
     "output_type": "execute_result"
    }
   ],
   "source": [
    "Vehicule[\"typeImmatriculation\"].unique()"
   ]
  },
  {
   "cell_type": "code",
   "execution_count": 41,
   "metadata": {},
   "outputs": [
    {
     "data": {
      "text/html": [
       "<div>\n",
       "<style scoped>\n",
       "    .dataframe tbody tr th:only-of-type {\n",
       "        vertical-align: middle;\n",
       "    }\n",
       "\n",
       "    .dataframe tbody tr th {\n",
       "        vertical-align: top;\n",
       "    }\n",
       "\n",
       "    .dataframe thead th {\n",
       "        text-align: right;\n",
       "    }\n",
       "</style>\n",
       "<table border=\"1\" class=\"dataframe\">\n",
       "  <thead>\n",
       "    <tr style=\"text-align: right;\">\n",
       "      <th></th>\n",
       "      <th>CodeVehicule_id</th>\n",
       "      <th>numChassis</th>\n",
       "      <th>codeMarque</th>\n",
       "      <th>puissanceFiscal</th>\n",
       "      <th>numImmatriculation</th>\n",
       "      <th>typeImmatriculation</th>\n",
       "      <th>energie</th>\n",
       "      <th>dateInsertion</th>\n",
       "      <th>dateAjout</th>\n",
       "      <th>etatVehicule</th>\n",
       "      <th>dateMiseCirculation</th>\n",
       "      <th>dateMiseAjourVehicule</th>\n",
       "    </tr>\n",
       "  </thead>\n",
       "  <tbody>\n",
       "    <tr>\n",
       "      <th>13947</th>\n",
       "      <td>1534273</td>\n",
       "      <td>ZCFCA70A305108149</td>\n",
       "      <td>184</td>\n",
       "      <td>8</td>\n",
       "      <td>2-218802</td>\n",
       "      <td>-</td>\n",
       "      <td>GASOIL</td>\n",
       "      <td>2018-07-31</td>\n",
       "      <td>2018-10-17 01:38:16.000000</td>\n",
       "      <td>V</td>\n",
       "      <td>2017-12-15 00:00:00.000000</td>\n",
       "      <td>2017-12-15 00:00:00.000000</td>\n",
       "    </tr>\n",
       "    <tr>\n",
       "      <th>14694</th>\n",
       "      <td>1541066</td>\n",
       "      <td>VF3DDHMW0JJ633718</td>\n",
       "      <td>29</td>\n",
       "      <td>5</td>\n",
       "      <td>19-363727</td>\n",
       "      <td>-</td>\n",
       "      <td>ESSENCE</td>\n",
       "      <td>2018-07-31</td>\n",
       "      <td>2018-11-06 06:52:30.000000</td>\n",
       "      <td>V</td>\n",
       "      <td>2018-07-04 00:00:00.000000</td>\n",
       "      <td>2018-07-04 00:00:00.000000</td>\n",
       "    </tr>\n",
       "    <tr>\n",
       "      <th>14985</th>\n",
       "      <td>1512828</td>\n",
       "      <td>HFB068386</td>\n",
       "      <td>984</td>\n",
       "      <td>16</td>\n",
       "      <td>2-214380</td>\n",
       "      <td>-</td>\n",
       "      <td>GASOIL</td>\n",
       "      <td>2018-07-31</td>\n",
       "      <td>2018-09-17 01:43:04.000000</td>\n",
       "      <td>V</td>\n",
       "      <td>2010-02-09 00:00:00.000000</td>\n",
       "      <td>2010-02-09 00:00:00.000000</td>\n",
       "    </tr>\n",
       "  </tbody>\n",
       "</table>\n",
       "</div>"
      ],
      "text/plain": [
       "       CodeVehicule_id         numChassis  codeMarque  puissanceFiscal  \\\n",
       "13947          1534273  ZCFCA70A305108149         184                8   \n",
       "14694          1541066  VF3DDHMW0JJ633718          29                5   \n",
       "14985          1512828          HFB068386         984               16   \n",
       "\n",
       "      numImmatriculation typeImmatriculation  energie dateInsertion  \\\n",
       "13947           2-218802                   -   GASOIL    2018-07-31   \n",
       "14694          19-363727                   -  ESSENCE    2018-07-31   \n",
       "14985           2-214380                   -   GASOIL    2018-07-31   \n",
       "\n",
       "                        dateAjout etatVehicule         dateMiseCirculation  \\\n",
       "13947  2018-10-17 01:38:16.000000            V  2017-12-15 00:00:00.000000   \n",
       "14694  2018-11-06 06:52:30.000000            V  2018-07-04 00:00:00.000000   \n",
       "14985  2018-09-17 01:43:04.000000            V  2010-02-09 00:00:00.000000   \n",
       "\n",
       "            dateMiseAjourVehicule  \n",
       "13947  2017-12-15 00:00:00.000000  \n",
       "14694  2018-07-04 00:00:00.000000  \n",
       "14985  2010-02-09 00:00:00.000000  "
      ]
     },
     "execution_count": 41,
     "metadata": {},
     "output_type": "execute_result"
    }
   ],
   "source": [
    "#teb3a louzera\n",
    "Vehicule[Vehicule[\"typeImmatriculation\"]==\"-\"].head(3)"
   ]
  },
  {
   "cell_type": "code",
   "execution_count": 42,
   "metadata": {},
   "outputs": [
    {
     "data": {
      "text/plain": [
       "array(['V', 'E', nan], dtype=object)"
      ]
     },
     "execution_count": 42,
     "metadata": {},
     "output_type": "execute_result"
    }
   ],
   "source": [
    "Vehicule[\"etatVehicule\"].unique()"
   ]
  },
  {
   "cell_type": "code",
   "execution_count": 43,
   "metadata": {},
   "outputs": [
    {
     "data": {
      "text/plain": [
       "array(['9094TU74', '5796TU146', '8836TU180', ..., '5892TU38', '4904TU102',\n",
       "       nan], dtype=object)"
      ]
     },
     "execution_count": 43,
     "metadata": {},
     "output_type": "execute_result"
    }
   ],
   "source": [
    "Vehicule[\"numImmatriculation\"].unique()"
   ]
  },
  {
   "cell_type": "code",
   "execution_count": 44,
   "metadata": {},
   "outputs": [
    {
     "data": {
      "text/plain": [
       "(1069295, 12)"
      ]
     },
     "execution_count": 44,
     "metadata": {},
     "output_type": "execute_result"
    }
   ],
   "source": [
    "Vehicule.shape"
   ]
  },
  {
   "cell_type": "code",
   "execution_count": 45,
   "metadata": {},
   "outputs": [
    {
     "data": {
      "text/plain": [
       "29670"
      ]
     },
     "execution_count": 45,
     "metadata": {},
     "output_type": "execute_result"
    }
   ],
   "source": [
    "len(Vehicule[\"numChassis\"].unique())"
   ]
  },
  {
   "cell_type": "code",
   "execution_count": 46,
   "metadata": {},
   "outputs": [],
   "source": [
    "listvehiculeDupicated=[]\n",
    "listvehiculeDupicated=Vehicule[Vehicule[\"CodeVehicule_id\"].duplicated()][\"CodeVehicule_id\"]"
   ]
  },
  {
   "cell_type": "code",
   "execution_count": 47,
   "metadata": {},
   "outputs": [
    {
     "data": {
      "text/html": [
       "<div>\n",
       "<style scoped>\n",
       "    .dataframe tbody tr th:only-of-type {\n",
       "        vertical-align: middle;\n",
       "    }\n",
       "\n",
       "    .dataframe tbody tr th {\n",
       "        vertical-align: top;\n",
       "    }\n",
       "\n",
       "    .dataframe thead th {\n",
       "        text-align: right;\n",
       "    }\n",
       "</style>\n",
       "<table border=\"1\" class=\"dataframe\">\n",
       "  <thead>\n",
       "    <tr style=\"text-align: right;\">\n",
       "      <th></th>\n",
       "      <th>CodeVehicule_id</th>\n",
       "      <th>numChassis</th>\n",
       "      <th>codeMarque</th>\n",
       "      <th>puissanceFiscal</th>\n",
       "      <th>numImmatriculation</th>\n",
       "      <th>typeImmatriculation</th>\n",
       "      <th>energie</th>\n",
       "      <th>dateInsertion</th>\n",
       "      <th>dateAjout</th>\n",
       "      <th>etatVehicule</th>\n",
       "      <th>dateMiseCirculation</th>\n",
       "      <th>dateMiseAjourVehicule</th>\n",
       "    </tr>\n",
       "  </thead>\n",
       "  <tbody>\n",
       "    <tr>\n",
       "      <th>6481</th>\n",
       "      <td>696376</td>\n",
       "      <td>VF3GBWJYB96110078</td>\n",
       "      <td>29</td>\n",
       "      <td>7</td>\n",
       "      <td>9691TU115</td>\n",
       "      <td>TU</td>\n",
       "      <td>GASOIL</td>\n",
       "      <td>2017-10-05</td>\n",
       "      <td>2018-02-24 04:33:58.000000</td>\n",
       "      <td>V</td>\n",
       "      <td>NaN</td>\n",
       "      <td>NaN</td>\n",
       "    </tr>\n",
       "    <tr>\n",
       "      <th>112</th>\n",
       "      <td>696376</td>\n",
       "      <td>NaN</td>\n",
       "      <td>29</td>\n",
       "      <td>7</td>\n",
       "      <td>NaN</td>\n",
       "      <td>TU</td>\n",
       "      <td>GASOIL</td>\n",
       "      <td>2017-10-05</td>\n",
       "      <td>NaN</td>\n",
       "      <td>NaN</td>\n",
       "      <td>NaN</td>\n",
       "      <td>NaN</td>\n",
       "    </tr>\n",
       "  </tbody>\n",
       "</table>\n",
       "</div>"
      ],
      "text/plain": [
       "      CodeVehicule_id         numChassis  codeMarque  puissanceFiscal  \\\n",
       "6481           696376  VF3GBWJYB96110078          29                7   \n",
       "112            696376                NaN          29                7   \n",
       "\n",
       "     numImmatriculation typeImmatriculation energie dateInsertion  \\\n",
       "6481          9691TU115                  TU  GASOIL    2017-10-05   \n",
       "112                 NaN                  TU  GASOIL    2017-10-05   \n",
       "\n",
       "                       dateAjout etatVehicule dateMiseCirculation  \\\n",
       "6481  2018-02-24 04:33:58.000000            V                 NaN   \n",
       "112                          NaN          NaN                 NaN   \n",
       "\n",
       "     dateMiseAjourVehicule  \n",
       "6481                   NaN  \n",
       "112                    NaN  "
      ]
     },
     "execution_count": 47,
     "metadata": {},
     "output_type": "execute_result"
    }
   ],
   "source": [
    "Vehicule[Vehicule[\"CodeVehicule_id\"]==696376]"
   ]
  },
  {
   "cell_type": "code",
   "execution_count": 48,
   "metadata": {},
   "outputs": [
    {
     "data": {
      "text/html": [
       "<div>\n",
       "<style scoped>\n",
       "    .dataframe tbody tr th:only-of-type {\n",
       "        vertical-align: middle;\n",
       "    }\n",
       "\n",
       "    .dataframe tbody tr th {\n",
       "        vertical-align: top;\n",
       "    }\n",
       "\n",
       "    .dataframe thead th {\n",
       "        text-align: right;\n",
       "    }\n",
       "</style>\n",
       "<table border=\"1\" class=\"dataframe\">\n",
       "  <thead>\n",
       "    <tr style=\"text-align: right;\">\n",
       "      <th></th>\n",
       "      <th>CodeVehicule_id</th>\n",
       "      <th>codeMarque</th>\n",
       "      <th>puissanceFiscal</th>\n",
       "      <th>typeImmatriculation</th>\n",
       "      <th>energie</th>\n",
       "      <th>dateInsertion</th>\n",
       "    </tr>\n",
       "  </thead>\n",
       "  <tbody>\n",
       "    <tr>\n",
       "      <th>112</th>\n",
       "      <td>696376</td>\n",
       "      <td>29</td>\n",
       "      <td>7</td>\n",
       "      <td>TU</td>\n",
       "      <td>GASOIL</td>\n",
       "      <td>2017-10-05</td>\n",
       "    </tr>\n",
       "  </tbody>\n",
       "</table>\n",
       "</div>"
      ],
      "text/plain": [
       "     CodeVehicule_id  codeMarque  puissanceFiscal typeImmatriculation energie  \\\n",
       "112           696376          29                7                  TU  GASOIL   \n",
       "\n",
       "    dateInsertion  \n",
       "112    2017-10-05  "
      ]
     },
     "execution_count": 48,
     "metadata": {},
     "output_type": "execute_result"
    }
   ],
   "source": [
    "Vehiculexls[Vehiculexls[\"CodeVehicule_id\"]==696376]"
   ]
  },
  {
   "cell_type": "code",
   "execution_count": 49,
   "metadata": {},
   "outputs": [
    {
     "data": {
      "text/html": [
       "<div>\n",
       "<style scoped>\n",
       "    .dataframe tbody tr th:only-of-type {\n",
       "        vertical-align: middle;\n",
       "    }\n",
       "\n",
       "    .dataframe tbody tr th {\n",
       "        vertical-align: top;\n",
       "    }\n",
       "\n",
       "    .dataframe thead th {\n",
       "        text-align: right;\n",
       "    }\n",
       "</style>\n",
       "<table border=\"1\" class=\"dataframe\">\n",
       "  <thead>\n",
       "    <tr style=\"text-align: right;\">\n",
       "      <th></th>\n",
       "      <th>CodeVehicule_id</th>\n",
       "      <th>numChassis</th>\n",
       "      <th>codeMarque</th>\n",
       "      <th>puissanceFiscal</th>\n",
       "      <th>numImmatriculation</th>\n",
       "      <th>typeImmatriculation</th>\n",
       "      <th>energie</th>\n",
       "      <th>dateInsertion</th>\n",
       "      <th>dateAjout</th>\n",
       "      <th>etatVehicule</th>\n",
       "      <th>dateMiseCirculation</th>\n",
       "      <th>dateMiseAjourVehicule</th>\n",
       "    </tr>\n",
       "  </thead>\n",
       "  <tbody>\n",
       "    <tr>\n",
       "      <th>6481</th>\n",
       "      <td>696376</td>\n",
       "      <td>VF3GBWJYB96110078</td>\n",
       "      <td>29</td>\n",
       "      <td>7</td>\n",
       "      <td>9691TU115</td>\n",
       "      <td>TU</td>\n",
       "      <td>GASOIL</td>\n",
       "      <td>2017-10-05</td>\n",
       "      <td>2018-02-24 04:33:58.000000</td>\n",
       "      <td>V</td>\n",
       "      <td>NaN</td>\n",
       "      <td>NaN</td>\n",
       "    </tr>\n",
       "  </tbody>\n",
       "</table>\n",
       "</div>"
      ],
      "text/plain": [
       "      CodeVehicule_id         numChassis  codeMarque  puissanceFiscal  \\\n",
       "6481           696376  VF3GBWJYB96110078          29                7   \n",
       "\n",
       "     numImmatriculation typeImmatriculation energie dateInsertion  \\\n",
       "6481          9691TU115                  TU  GASOIL    2017-10-05   \n",
       "\n",
       "                       dateAjout etatVehicule dateMiseCirculation  \\\n",
       "6481  2018-02-24 04:33:58.000000            V                 NaN   \n",
       "\n",
       "     dateMiseAjourVehicule  \n",
       "6481                   NaN  "
      ]
     },
     "execution_count": 49,
     "metadata": {},
     "output_type": "execute_result"
    }
   ],
   "source": [
    "Vehiculecsv[Vehiculecsv[\"CodeVehicule_id\"]==696376]"
   ]
  },
  {
   "cell_type": "code",
   "execution_count": 50,
   "metadata": {},
   "outputs": [
    {
     "data": {
      "text/plain": [
       "17005"
      ]
     },
     "execution_count": 50,
     "metadata": {},
     "output_type": "execute_result"
    }
   ],
   "source": [
    "len(listvehiculeDupicated)"
   ]
  },
  {
   "cell_type": "code",
   "execution_count": 51,
   "metadata": {},
   "outputs": [
    {
     "data": {
      "text/plain": [
       "17005"
      ]
     },
     "execution_count": 51,
     "metadata": {},
     "output_type": "execute_result"
    }
   ],
   "source": [
    "Vehiculecsv[Vehiculecsv.CodeVehicule_id.isin(listvehiculeDupicated)].shape[0]"
   ]
  },
  {
   "cell_type": "code",
   "execution_count": 52,
   "metadata": {},
   "outputs": [
    {
     "data": {
      "text/plain": [
       "17005"
      ]
     },
     "execution_count": 52,
     "metadata": {},
     "output_type": "execute_result"
    }
   ],
   "source": [
    "Vehiculexls[Vehiculexls.CodeVehicule_id.isin(listvehiculeDupicated)].shape[0]"
   ]
  },
  {
   "cell_type": "code",
   "execution_count": 53,
   "metadata": {},
   "outputs": [
    {
     "data": {
      "text/plain": [
       "17005"
      ]
     },
     "execution_count": 53,
     "metadata": {},
     "output_type": "execute_result"
    }
   ],
   "source": [
    "Vehicule[( (Vehicule.CodeVehicule_id.isin(listvehiculeDupicated)) & (Vehicule[\"numImmatriculation\"].isnull()) )].shape[0]"
   ]
  },
  {
   "cell_type": "code",
   "execution_count": 54,
   "metadata": {},
   "outputs": [],
   "source": [
    "Vehicule.drop(Vehicule[( (Vehicule.CodeVehicule_id.isin(listvehiculeDupicated)) & (Vehicule[\"numImmatriculation\"].isnull()) )].index, inplace = True)"
   ]
  },
  {
   "cell_type": "code",
   "execution_count": 55,
   "metadata": {},
   "outputs": [
    {
     "data": {
      "text/plain": [
       "0"
      ]
     },
     "execution_count": 55,
     "metadata": {},
     "output_type": "execute_result"
    }
   ],
   "source": [
    "len(Vehicule[Vehicule[\"CodeVehicule_id\"].duplicated()][\"CodeVehicule_id\"])"
   ]
  },
  {
   "cell_type": "code",
   "execution_count": 56,
   "metadata": {},
   "outputs": [],
   "source": [
    "listduplicated=[]\n",
    "listduplicated=Vehicule[(~Vehicule[\"numImmatriculation\"].isnull()) & Vehicule[\"numImmatriculation\"].duplicated()][\"CodeVehicule_id\"]"
   ]
  },
  {
   "cell_type": "code",
   "execution_count": 57,
   "metadata": {},
   "outputs": [
    {
     "data": {
      "text/html": [
       "<div>\n",
       "<style scoped>\n",
       "    .dataframe tbody tr th:only-of-type {\n",
       "        vertical-align: middle;\n",
       "    }\n",
       "\n",
       "    .dataframe tbody tr th {\n",
       "        vertical-align: top;\n",
       "    }\n",
       "\n",
       "    .dataframe thead th {\n",
       "        text-align: right;\n",
       "    }\n",
       "</style>\n",
       "<table border=\"1\" class=\"dataframe\">\n",
       "  <thead>\n",
       "    <tr style=\"text-align: right;\">\n",
       "      <th></th>\n",
       "      <th>CodeVehicule_id</th>\n",
       "      <th>numChassis</th>\n",
       "      <th>codeMarque</th>\n",
       "      <th>puissanceFiscal</th>\n",
       "      <th>numImmatriculation</th>\n",
       "      <th>typeImmatriculation</th>\n",
       "      <th>energie</th>\n",
       "      <th>dateInsertion</th>\n",
       "      <th>dateAjout</th>\n",
       "      <th>etatVehicule</th>\n",
       "      <th>dateMiseCirculation</th>\n",
       "      <th>dateMiseAjourVehicule</th>\n",
       "    </tr>\n",
       "  </thead>\n",
       "  <tbody>\n",
       "    <tr>\n",
       "      <th>15256</th>\n",
       "      <td>1493475</td>\n",
       "      <td>VF1LB270F36621197</td>\n",
       "      <td>30</td>\n",
       "      <td>5</td>\n",
       "      <td>5553TU125</td>\n",
       "      <td>TU</td>\n",
       "      <td>ESSENCE</td>\n",
       "      <td>2018-02-13</td>\n",
       "      <td>2018-07-06 14:23:19.000000</td>\n",
       "      <td>V</td>\n",
       "      <td>NaN</td>\n",
       "      <td>NaN</td>\n",
       "    </tr>\n",
       "    <tr>\n",
       "      <th>15257</th>\n",
       "      <td>1493476</td>\n",
       "      <td>VF1LB270F36621197</td>\n",
       "      <td>30</td>\n",
       "      <td>5</td>\n",
       "      <td>5553TU125</td>\n",
       "      <td>TU</td>\n",
       "      <td>ESSENCE</td>\n",
       "      <td>2018-02-13</td>\n",
       "      <td>2018-07-06 14:23:20.000000</td>\n",
       "      <td>V</td>\n",
       "      <td>NaN</td>\n",
       "      <td>NaN</td>\n",
       "    </tr>\n",
       "  </tbody>\n",
       "</table>\n",
       "</div>"
      ],
      "text/plain": [
       "       CodeVehicule_id         numChassis  codeMarque  puissanceFiscal  \\\n",
       "15256          1493475  VF1LB270F36621197          30                5   \n",
       "15257          1493476  VF1LB270F36621197          30                5   \n",
       "\n",
       "      numImmatriculation typeImmatriculation  energie dateInsertion  \\\n",
       "15256          5553TU125                  TU  ESSENCE    2018-02-13   \n",
       "15257          5553TU125                  TU  ESSENCE    2018-02-13   \n",
       "\n",
       "                        dateAjout etatVehicule dateMiseCirculation  \\\n",
       "15256  2018-07-06 14:23:19.000000            V                 NaN   \n",
       "15257  2018-07-06 14:23:20.000000            V                 NaN   \n",
       "\n",
       "      dateMiseAjourVehicule  \n",
       "15256                   NaN  \n",
       "15257                   NaN  "
      ]
     },
     "execution_count": 57,
     "metadata": {},
     "output_type": "execute_result"
    }
   ],
   "source": [
    "Vehicule[Vehicule[\"numImmatriculation\"]==\"5553TU125\"]"
   ]
  },
  {
   "cell_type": "code",
   "execution_count": 58,
   "metadata": {},
   "outputs": [],
   "source": [
    "Vehicule.drop(Vehicule[( (Vehicule.CodeVehicule_id.isin(listduplicated)) ) ].index, inplace = True)"
   ]
  },
  {
   "cell_type": "code",
   "execution_count": 59,
   "metadata": {},
   "outputs": [],
   "source": [
    "listduplicated=[]\n",
    "listduplicated=Vehicule[(~Vehicule[\"numImmatriculation\"].isnull()) & Vehicule[\"numImmatriculation\"].duplicated()][\"CodeVehicule_id\"]"
   ]
  },
  {
   "cell_type": "code",
   "execution_count": 60,
   "metadata": {},
   "outputs": [
    {
     "data": {
      "text/plain": [
       "8123"
      ]
     },
     "execution_count": 60,
     "metadata": {},
     "output_type": "execute_result"
    }
   ],
   "source": [
    "Vehicule[~Vehicule[\"dateMiseCirculation\"].isnull()].shape[0]"
   ]
  },
  {
   "cell_type": "code",
   "execution_count": 61,
   "metadata": {},
   "outputs": [
    {
     "data": {
      "text/plain": [
       "CodeVehicule_id                0\n",
       "numChassis               1022496\n",
       "codeMarque                     0\n",
       "puissanceFiscal                0\n",
       "numImmatriculation       1022496\n",
       "typeImmatriculation            0\n",
       "energie                        0\n",
       "dateInsertion                  0\n",
       "dateAjout                1022496\n",
       "etatVehicule             1022496\n",
       "dateMiseCirculation      1043641\n",
       "dateMiseAjourVehicule    1043616\n",
       "dtype: int64"
      ]
     },
     "execution_count": 61,
     "metadata": {},
     "output_type": "execute_result"
    }
   ],
   "source": [
    "Vehicule.isnull().sum()"
   ]
  },
  {
   "cell_type": "code",
   "execution_count": null,
   "metadata": {},
   "outputs": [],
   "source": []
  },
  {
   "cell_type": "code",
   "execution_count": null,
   "metadata": {},
   "outputs": [],
   "source": []
  },
  {
   "cell_type": "code",
   "execution_count": null,
   "metadata": {},
   "outputs": [],
   "source": []
  },
  {
   "cell_type": "code",
   "execution_count": null,
   "metadata": {},
   "outputs": [],
   "source": []
  },
  {
   "cell_type": "code",
   "execution_count": 61,
   "metadata": {},
   "outputs": [],
   "source": [
    "Vehicule.to_csv(\"Dataset_clean/Vehicule_clean.csv\",index=False)"
   ]
  }
 ],
 "metadata": {
  "kernelspec": {
   "display_name": "Python 3",
   "language": "python",
   "name": "python3"
  },
  "language_info": {
   "codemirror_mode": {
    "name": "ipython",
    "version": 3
   },
   "file_extension": ".py",
   "mimetype": "text/x-python",
   "name": "python",
   "nbconvert_exporter": "python",
   "pygments_lexer": "ipython3",
   "version": "3.7.6"
  }
 },
 "nbformat": 4,
 "nbformat_minor": 4
}
